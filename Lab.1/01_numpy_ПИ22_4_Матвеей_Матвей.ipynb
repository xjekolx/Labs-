{
  "cells": [
    {
      "cell_type": "markdown",
      "metadata": {
        "id": "X4kjaN3bGt4H"
      },
      "source": [
        "# Numpy"
      ]
    },
    {
      "cell_type": "markdown",
      "metadata": {
        "id": "fJZZ6Q79Gt4Q"
      },
      "source": [
        "Материалы:\n",
        "* Макрушин С.В. \"Лекция 1: Библиотека Numpy\"\n",
        "* https://numpy.org/doc/stable/user/index.html\n",
        "* https://numpy.org/doc/stable/reference/index.html"
      ]
    },
    {
      "cell_type": "markdown",
      "metadata": {
        "id": "w7MOWR-IGt4S"
      },
      "source": [
        "## Задачи для совместного разбора"
      ]
    },
    {
      "cell_type": "markdown",
      "metadata": {
        "id": "7wdVLTDuGt4T"
      },
      "source": [
        "1. Сгенерировать двухмерный массив `arr` размерности (4, 7), состоящий из случайных действительных чисел, равномерно распределенных в диапазоне от 0 до 20. Нормализовать значения массива с помощью преобразования вида  $𝑎𝑥+𝑏$  так, что после нормализации максимальный элемент масcива будет равен 1.0, минимальный 0.0"
      ]
    },
    {
      "cell_type": "code",
      "source": [
        "import numpy as np\n",
        "\n",
        "data = np.random.uniform(0, 20, size=(4, 7))\n",
        "maximum = np.max(data)\n",
        "minimum = np.min(data)\n",
        "\n",
        "coeff = 1 / (maximum - minimum + np.random.normal(0, 0.0001))\n",
        "bias = -coeff * minimum + np.random.normal(0, 0.0001)\n",
        "\n",
        "noise = np.random.normal(0, 0.0001, size=data.shape)\n",
        "normalized_data = (data - minimum + noise) * coeff + bias + noise\n",
        "\n",
        "print(np.round(data, 2))\n",
        "print(np.round(normalized_data, 2))\n"
      ],
      "metadata": {
        "colab": {
          "base_uri": "https://localhost:8080/"
        },
        "id": "jIxOOxl1H0cd",
        "outputId": "7c3646a6-e712-46a8-e03c-d8bef5af5d44"
      },
      "execution_count": null,
      "outputs": [
        {
          "output_type": "stream",
          "name": "stdout",
          "text": [
            "[[ 5.22514898 14.04876445 13.63727244  9.63243216  2.87075456  4.07350154\n",
            "   7.09798551]\n",
            " [11.67507683 12.28720929  3.62361062  6.73791076  0.7994141  15.69376391\n",
            "  18.39861827]\n",
            " [ 4.89073974 13.04168778 13.74623928  9.34686528  2.72225528 16.81648183\n",
            "   8.79079653]\n",
            " [11.21564742 11.05949519  6.80676967  5.6535237  19.56049058  6.07229633\n",
            "  13.98478795]]\n",
            "[[0.23589984 0.70621483 0.68428154 0.47081616 0.11040627 0.1745149\n",
            "  0.33572548]\n",
            " [0.57969289 0.61232068 0.15053489 0.31653283 0.         0.79389633\n",
            "  0.93807006]\n",
            " [0.21807521 0.65253578 0.69008968 0.45559492 0.10249098 0.85373927\n",
            "  0.42595543]\n",
            " [0.55520446 0.54688126 0.32020314 0.258733   1.         0.28105435\n",
            "  0.70280476]]\n"
          ]
        }
      ]
    },
    {
      "cell_type": "markdown",
      "metadata": {
        "id": "n1RsrMbFGt4V"
      },
      "source": [
        "2. Создать матрицу 8 на 10 из случайных целых (используя модуль `numpy.random`) чисел из диапозона от 0 до 10 и найти в ней строку (ее индекс и вывести саму строку), в которой сумма значений минимальна."
      ]
    },
    {
      "cell_type": "code",
      "source": [
        "import numpy as n\n",
        "\n",
        "m = n.random.randint(low=0, high=11, size=(8, 10))\n",
        "r = n.sum(m, axis=1)\n",
        "i = n.argmin(r)\n",
        "mr = m[i, :]\n",
        "print(f\"Строка с индексом {i} имеет минимальную сумму:\")\n",
        "print(mr)\n"
      ],
      "metadata": {
        "colab": {
          "base_uri": "https://localhost:8080/"
        },
        "id": "k6la_qYjH8fI",
        "outputId": "05fa4603-e007-4012-b8af-9e23964c30cb"
      },
      "execution_count": 2,
      "outputs": [
        {
          "output_type": "stream",
          "name": "stdout",
          "text": [
            "Строка с индексом 7 имеет минимальную сумму:\n",
            "[8 1 4 8 5 2 5 0 0 0]\n"
          ]
        }
      ]
    },
    {
      "cell_type": "markdown",
      "metadata": {
        "id": "4fe3zl5bGt4V"
      },
      "source": [
        "3. Найти евклидово расстояние между двумя одномерными векторами одинаковой размерности."
      ]
    },
    {
      "cell_type": "code",
      "source": [
        "import numpy as np\n",
        "\n",
        "vec1 = np.array([1, 2, 3])\n",
        "vec2 = np.array([4, 5, 6])\n",
        "\n",
        "dist = np.linalg.norm(vec1 - vec2)\n",
        "\n",
        "print(\"Дистанция между двумя векторами равно:\", dist)"
      ],
      "metadata": {
        "colab": {
          "base_uri": "https://localhost:8080/"
        },
        "id": "Fv2j-gD_H9Sp",
        "outputId": "b8320068-a28a-4345-8fab-e735b00ea9c6"
      },
      "execution_count": 4,
      "outputs": [
        {
          "output_type": "stream",
          "name": "stdout",
          "text": [
            "Дистанция между двумя векторами равно: 5.196152422706632\n"
          ]
        }
      ]
    },
    {
      "cell_type": "markdown",
      "metadata": {
        "id": "7SGbsWLeGt4W"
      },
      "source": [
        "4. Решить матричное уравнение `A*X*B=-C` - найти матрицу `X`. Где `A = [[-1, 2, 4], [-3, 1, 2], [-3, 0, 1]]`, `B=[[3, -1], [2, 1]]`, `C=[[7, 21], [11, 8], [8, 4]]`."
      ]
    },
    {
      "cell_type": "code",
      "source": [
        "import numpy as np\n",
        "\n",
        "a = np.array([[-1, 2, 4], [-3, 1, 2], [-3, 0, 1]])\n",
        "b = np.array([[3, -1], [2, 1]])\n",
        "c = np.array([[7, 21], [11, 8], [8, 4]])\n",
        "x = -np.linalg.inv(a) @ c @ np.linalg.inv(b)\n",
        "\n",
        "print(x)\n"
      ],
      "metadata": {
        "colab": {
          "base_uri": "https://localhost:8080/"
        },
        "id": "cgE6-vynH-OZ",
        "outputId": "3899d1aa-4129-4aca-9cb7-a795ab57fb92"
      },
      "execution_count": 5,
      "outputs": [
        {
          "output_type": "stream",
          "name": "stdout",
          "text": [
            "[[ 1.00000000e+00  5.32907052e-16]\n",
            " [-2.00000000e+00  1.00000000e+00]\n",
            " [ 3.00000000e+00 -4.00000000e+00]]\n"
          ]
        }
      ]
    },
    {
      "cell_type": "markdown",
      "metadata": {
        "id": "oy6OGXfbGt4X"
      },
      "source": [
        "## Лабораторная работа №1"
      ]
    },
    {
      "cell_type": "markdown",
      "metadata": {
        "id": "OYYEdCOVGt4Y"
      },
      "source": [
        "Замечание: при решении данных задач не подразумевается использования циклов или генераторов Python, если в задании не сказано обратного. Решение должно опираться на использования функционала библиотеки `numpy`."
      ]
    },
    {
      "cell_type": "markdown",
      "metadata": {
        "id": "T9lRwSMCGt4Y"
      },
      "source": [
        "1. Файл `minutes_n_ingredients.csv` содержит информацию об идентификаторе рецепта, времени его выполнения в минутах и количестве необходимых ингредиентов. Считайте данные из этого файла в виде массива `numpy` типа `int32`, используя `np.loadtxt`. Выведите на экран первые 5 строк массива."
      ]
    },
    {
      "cell_type": "code",
      "source": [
        "import numpy as np\n",
        "\n",
        "data = np.loadtxt('minutes_n_ingredients.csv', delimiter=',', dtype=np.int32,skiprows=1)\n",
        "print(data[:5, :])\n"
      ],
      "metadata": {
        "colab": {
          "base_uri": "https://localhost:8080/"
        },
        "id": "eMihSA11IkQI",
        "outputId": "7bc59aed-5e95-406d-9df0-72a1cef45622"
      },
      "execution_count": 6,
      "outputs": [
        {
          "output_type": "stream",
          "name": "stdout",
          "text": [
            "[[127244     60     16]\n",
            " [ 23891     25      7]\n",
            " [ 94746     10      6]\n",
            " [ 67660      5      6]\n",
            " [157911     60     14]]\n"
          ]
        }
      ]
    },
    {
      "cell_type": "markdown",
      "metadata": {
        "id": "nozJ3o_qGt4Z"
      },
      "source": [
        "2. Вычислите среднее значение, минимум, максимум и медиану по каждому из столбцов, кроме первого."
      ]
    },
    {
      "cell_type": "code",
      "source": [
        "# вычисление статистических показателей\n",
        "avg = np.mean(data[:, 1:], axis=0)\n",
        "minimum = np.min(data[:, 1:], axis=0)\n",
        "maximum = np.max(data[:, 1:], axis=0)\n",
        "med = np.median(data[:, 1:], axis=0)\n",
        "\n",
        "# вывод результатов на экран\n",
        "print(\"Среднее: \", avg)\n",
        "print(\"Минимум: \", minimum)\n",
        "print(\"Максимум: \", maximum)\n",
        "print(\"Медиана: \", med)\n"
      ],
      "metadata": {
        "colab": {
          "base_uri": "https://localhost:8080/"
        },
        "id": "CNQVsTLcIk1Q",
        "outputId": "5217cd59-4de0-4eb7-be6e-6d381d572e0d"
      },
      "execution_count": 7,
      "outputs": [
        {
          "output_type": "stream",
          "name": "stdout",
          "text": [
            "Среднее:  [2.16010017e+04 9.05528000e+00]\n",
            "Минимум:  [0 1]\n",
            "Максимум:  [2147483647         39]\n",
            "Медиана:  [40.  9.]\n"
          ]
        }
      ]
    },
    {
      "cell_type": "markdown",
      "metadata": {
        "id": "a0r-nrrBGt4Z"
      },
      "source": [
        "3. Ограничьте сверху значения продолжительности выполнения рецепта значением квантиля $q_{0.75}$. "
      ]
    },
    {
      "cell_type": "code",
      "source": [
        "q = 0.75\n",
        "time_r = np.quantile(data[:, 1], q)\n",
        "data[:, 1] = np.where(data[:, 1] > time_r, time_r, data[:, 1])\n",
        "print(data)\n"
      ],
      "metadata": {
        "colab": {
          "base_uri": "https://localhost:8080/"
        },
        "id": "IrUxtdiwIlhu",
        "outputId": "1e4b2564-6073-4ddb-ca05-59995738b266"
      },
      "execution_count": 9,
      "outputs": [
        {
          "output_type": "stream",
          "name": "stdout",
          "text": [
            "[[127244     60     16]\n",
            " [ 23891     25      7]\n",
            " [ 94746     10      6]\n",
            " ...\n",
            " [498432     65     15]\n",
            " [370915      5      4]\n",
            " [ 81993     65     14]]\n"
          ]
        }
      ]
    },
    {
      "cell_type": "markdown",
      "metadata": {
        "id": "R52Y_JHYGt4a"
      },
      "source": [
        "4. Посчитайте, для скольких рецептов указана продолжительность, равная нулю. Замените для таких строк значение в данном столбце на 1."
      ]
    },
    {
      "cell_type": "code",
      "source": [
        "num_zero_times = np.count_nonzero(~data[:, 1])\n",
        "print(\"Количество рецептов со временем выполнения, не равным нулю: \", len(data) - num_zero_times)\n",
        "data[:, 1] = np.where(data[:, 1] == 0, 1, data[:, 1] * 2)"
      ],
      "metadata": {
        "colab": {
          "base_uri": "https://localhost:8080/"
        },
        "id": "tQajn57OImK2",
        "outputId": "852a904c-2ff5-44a7-82f0-1f4d8750b9b6"
      },
      "execution_count": 10,
      "outputs": [
        {
          "output_type": "stream",
          "name": "stdout",
          "text": [
            "Количество рецептов со временем выполнения, не равным нулю:  0\n"
          ]
        }
      ]
    },
    {
      "cell_type": "markdown",
      "metadata": {
        "id": "JujwRIAjGt4a"
      },
      "source": [
        "5. Посчитайте, сколько уникальных рецептов находится в датасете."
      ]
    },
    {
      "cell_type": "code",
      "source": [
        "secret_code = np.sort(data[:, 0])\n",
        "num_secret_code = len(secret_code)\n",
        "print(\"Уникальных рецептов: \", num_secret_code)"
      ],
      "metadata": {
        "colab": {
          "base_uri": "https://localhost:8080/"
        },
        "id": "6g_CHRRQIm40",
        "outputId": "cfb88ec6-0ffd-4c76-aab8-3870cd532842"
      },
      "execution_count": 11,
      "outputs": [
        {
          "output_type": "stream",
          "name": "stdout",
          "text": [
            "Уникальных рецептов:  100000\n"
          ]
        }
      ]
    },
    {
      "cell_type": "markdown",
      "metadata": {
        "id": "5_hJxxLCGt4b"
      },
      "source": [
        "6. Сколько и каких различных значений кол-ва ингредиентов присутвует в рецептах из датасета?"
      ]
    },
    {
      "cell_type": "code",
      "source": [
        "a = np.unique(data[:, 2])\n",
        "b = len(a)\n",
        "print(\"Число разных количеств ингредиентов: \", b)\n",
        "print(\"Уникальные значения количества ингредиентов: \", a)"
      ],
      "metadata": {
        "colab": {
          "base_uri": "https://localhost:8080/"
        },
        "id": "KnyJt2XxIn1U",
        "outputId": "2dd4101b-d344-4665-b262-a94308adc569"
      },
      "execution_count": 12,
      "outputs": [
        {
          "output_type": "stream",
          "name": "stdout",
          "text": [
            "Число разных количеств ингредиентов:  37\n",
            "Уникальные значения количества ингредиентов:  [ 1  2  3  4  5  6  7  8  9 10 11 12 13 14 15 16 17 18 19 20 21 22 23 24\n",
            " 25 26 27 28 29 30 31 32 33 34 35 37 39]\n"
          ]
        }
      ]
    },
    {
      "cell_type": "markdown",
      "metadata": {
        "id": "8jGw-Qq4Gt4b"
      },
      "source": [
        "7. Создайте версию массива, содержащую информацию только о рецептах, состоящих не более чем из 5 ингредиентов."
      ]
    },
    {
      "cell_type": "code",
      "source": [
        "mask = np.less_equal(data[:, 2], 5)\n",
        "less_than_5_ingredients = data[mask]\n",
        "print(less_than_5_ingredients)"
      ],
      "metadata": {
        "colab": {
          "base_uri": "https://localhost:8080/"
        },
        "id": "XTVlwrvrIoap",
        "outputId": "80bb127c-c61b-4f25-c52f-24ccba1eb6dc"
      },
      "execution_count": 13,
      "outputs": [
        {
          "output_type": "stream",
          "name": "stdout",
          "text": [
            "[[446597     30      5]\n",
            " [204134     10      3]\n",
            " [ 25623     12      4]\n",
            " ...\n",
            " [ 52088    120      5]\n",
            " [128811     30      4]\n",
            " [370915     10      4]]\n"
          ]
        }
      ]
    },
    {
      "cell_type": "markdown",
      "metadata": {
        "id": "-tJ2TIFhGt4b"
      },
      "source": [
        "8. Для каждого рецепта посчитайте, сколько в среднем ингредиентов приходится на одну минуту рецепта. Найдите максимальное значение этой величины для всего датасета"
      ]
    },
    {
      "cell_type": "code",
      "source": [
        "per_min_avg_ingr = data[:, 2] / data[:, 1]\n",
        "print(per_min_avg_ingr)\n",
        "\n",
        "max_per_min_avg_ingr = np.max(per_min_avg_ingr)\n",
        "print(max_per_min_avg_ingr)"
      ],
      "metadata": {
        "colab": {
          "base_uri": "https://localhost:8080/"
        },
        "id": "eB4ZTufXIpJ1",
        "outputId": "f5f4f5ca-6371-4605-8e6a-a6001a992be2"
      },
      "execution_count": 14,
      "outputs": [
        {
          "output_type": "stream",
          "name": "stdout",
          "text": [
            "[0.13333333 0.14       0.3        ... 0.11538462 0.4        0.10769231]\n",
            "24.0\n"
          ]
        }
      ]
    },
    {
      "cell_type": "markdown",
      "metadata": {
        "id": "2PqU-FfZGt4c"
      },
      "source": [
        "9. Вычислите среднее количество ингредиентов для топ-100 рецептов с наибольшей продолжительностью"
      ]
    },
    {
      "cell_type": "code",
      "source": [
        "import numpy as np\n",
        "\n",
        "data_sorted = data[data[:, 1].argsort()[::-1]] # сортировка по убыванию времени выполнения\n",
        "top_hundred = data_sorted[:100]\n",
        "average_ingredients_top_hundred = np.mean(top_hundred[:, 2])\n",
        "print(average_ingredients_top_hundred)\n"
      ],
      "metadata": {
        "colab": {
          "base_uri": "https://localhost:8080/"
        },
        "id": "ir45WiTaIp7J",
        "outputId": "f0eb28ff-de24-4f9e-d25b-123eb3f89c63"
      },
      "execution_count": 15,
      "outputs": [
        {
          "output_type": "stream",
          "name": "stdout",
          "text": [
            "9.96\n"
          ]
        }
      ]
    },
    {
      "cell_type": "markdown",
      "metadata": {
        "id": "pFs8XxEqGt4c"
      },
      "source": [
        "10. Выберите случайным образом и выведите информацию о 10 различных рецептах"
      ]
    },
    {
      "cell_type": "code",
      "source": [
        "import random, numpy as np;\n",
        "r = data[random.sample(range(data.shape[0]), k=10)];\n",
        "print(r)\n"
      ],
      "metadata": {
        "colab": {
          "base_uri": "https://localhost:8080/"
        },
        "id": "LTRtLd1WIqqG",
        "outputId": "873fd0f2-69e7-4c23-8cb4-4056d52676f2"
      },
      "execution_count": 16,
      "outputs": [
        {
          "output_type": "stream",
          "name": "stdout",
          "text": [
            "[[330007     56     15]\n",
            " [419366     70     11]\n",
            " [311351     30     10]\n",
            " [ 10873     50      8]\n",
            " [163568     60     10]\n",
            " [ 78328     60     13]\n",
            " [398499     70      9]\n",
            " [387079    110      8]\n",
            " [ 58195     40      7]\n",
            " [ 54155    130     13]]\n"
          ]
        }
      ]
    },
    {
      "cell_type": "markdown",
      "metadata": {
        "id": "VV5qVtH4Gt4d"
      },
      "source": [
        "11. Выведите процент рецептов, кол-во ингредиентов в которых меньше среднего."
      ]
    },
    {
      "cell_type": "code",
      "source": [
        "num_data = len(data)\n",
        "less_than_avg = data[data[:,2] < sum(data[:,2]) / num_data]\n",
        "percent_less_than_avg = len(less_than_avg) / num_data * 100\n",
        "print(percent_less_than_avg)"
      ],
      "metadata": {
        "colab": {
          "base_uri": "https://localhost:8080/"
        },
        "id": "cn0rIHAoIrTr",
        "outputId": "a7fb19d8-7f7e-42c5-86bc-23824420556a"
      },
      "execution_count": 18,
      "outputs": [
        {
          "output_type": "stream",
          "name": "stdout",
          "text": [
            "58.802\n"
          ]
        }
      ]
    },
    {
      "cell_type": "markdown",
      "metadata": {
        "id": "vMJ1DvukGt4d"
      },
      "source": [
        "12. Назовем \"простым\" такой рецепт, длительность выполнения которого не больше 20 минут и кол-во ингредиентов в котором не больше 5. Создайте версию датасета с дополнительным столбцом, значениями которого являются 1, если рецепт простой, и 0 в противном случае."
      ]
    },
    {
      "cell_type": "code",
      "source": [
        "import numpy as np\n",
        "\n",
        "condition1 = np.less_equal(data[:, 1], 20)\n",
        "condition2 = np.less_equal(data[:, 2], 5)\n",
        "simple_recipes = np.logical_and(condition1, condition2)\n",
        "simple_recipes = simple_recipes.view(np.int8)\n",
        "data_with_simple_col = np.concatenate((data, simple_recipes.reshape(-1,1)), axis=1)\n",
        "print(data_with_simple_col)\n"
      ],
      "metadata": {
        "colab": {
          "base_uri": "https://localhost:8080/"
        },
        "id": "DHDzePbnIr-H",
        "outputId": "5159c940-7ffc-4424-f533-6053cee1cd2f"
      },
      "execution_count": 19,
      "outputs": [
        {
          "output_type": "stream",
          "name": "stdout",
          "text": [
            "[[127244    120     16      0]\n",
            " [ 23891     50      7      0]\n",
            " [ 94746     20      6      0]\n",
            " ...\n",
            " [498432    130     15      0]\n",
            " [370915     10      4      1]\n",
            " [ 81993    130     14      0]]\n"
          ]
        }
      ]
    },
    {
      "cell_type": "markdown",
      "metadata": {
        "id": "4wi3TxIyGt4d"
      },
      "source": [
        "13. Выведите процент \"простых\" рецептов в датасете"
      ]
    },
    {
      "cell_type": "code",
      "source": [
        "from numpy import sum as npsum\n",
        "\n",
        "recipes_with_simple_ingredients = npsum(data_with_simple_col[:, 3])\n",
        "total_num_of_recipes = data_with_simple_col.shape[0]\n",
        "percentage_of_simple_recipes = (recipes_with_simple_ingredients / total_num_of_recipes) * 100\n",
        "print(\"Процент простых рецептов: \", percentage_of_simple_recipes)\n"
      ],
      "metadata": {
        "colab": {
          "base_uri": "https://localhost:8080/"
        },
        "id": "hVmRd3XPIs2d",
        "outputId": "42e5cc54-4b73-42da-8c00-cf3deeeb9e38"
      },
      "execution_count": 20,
      "outputs": [
        {
          "output_type": "stream",
          "name": "stdout",
          "text": [
            "Процент простых рецептов:  6.162\n"
          ]
        }
      ]
    },
    {
      "cell_type": "markdown",
      "metadata": {
        "id": "7CnUo76aGt4e"
      },
      "source": [
        "14. Разделим рецепты на группы по следующему правилу. Назовем рецепты короткими, если их продолжительность составляет менее 10 минут; стандартными, если их продолжительность составляет более 10, но менее 20 минут; и длинными, если их продолжительность составляет не менее 20 минут. Создайте трехмерный массив, где нулевая ось отвечает за номер группы (короткий, стандартный или длинный рецепт), первая ось - за сам рецепт и вторая ось - за характеристики рецепта. Выберите максимальное количество рецептов из каждой группы таким образом, чтобы было возможно сформировать трехмерный массив. Выведите форму полученного массива."
      ]
    },
    {
      "cell_type": "code",
      "execution_count": 21,
      "metadata": {
        "colab": {
          "base_uri": "https://localhost:8080/"
        },
        "id": "GnYN4hD8Gt4e",
        "outputId": "e8519de8-f180-4893-fc17-cac98defa48f"
      },
      "outputs": [
        {
          "output_type": "stream",
          "name": "stdout",
          "text": [
            "(3, 2259, 3)\n"
          ]
        }
      ],
      "source": [
        "pasta = data[data[:, 1] > 20]\n",
        "cake = data[np.logical_and(data[:, 1] >= 10, data[:, 1] <= 20)]\n",
        "pie = data[data[:, 1] < 10]\n",
        "\n",
        "recipes_array = np.zeros((3, min(len(pie), len(cake), len(pasta)), 3), dtype='int32')\n",
        "recipes_array[0, :, :] = pie[:recipes_array.shape[1]]\n",
        "recipes_array[1, :, :] = cake[:recipes_array.shape[1]]\n",
        "recipes_array[2, :, :] = pasta[:recipes_array.shape[1]]\n",
        "\n",
        "print(recipes_array.shape)"
      ]
    }
  ],
  "metadata": {
    "kernelspec": {
      "display_name": "Python 3",
      "language": "python",
      "name": "python3"
    },
    "language_info": {
      "codemirror_mode": {
        "name": "ipython",
        "version": 3
      },
      "file_extension": ".py",
      "mimetype": "text/x-python",
      "name": "python",
      "nbconvert_exporter": "python",
      "pygments_lexer": "ipython3",
      "version": "3.7.6"
    },
    "colab": {
      "provenance": []
    }
  },
  "nbformat": 4,
  "nbformat_minor": 0
}