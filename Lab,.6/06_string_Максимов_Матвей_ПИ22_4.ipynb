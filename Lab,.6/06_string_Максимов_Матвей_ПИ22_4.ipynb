{
  "cells": [
    {
      "cell_type": "markdown",
      "metadata": {
        "id": "LtI4skgtEDBS"
      },
      "source": [
        "# Работа со строковыми значениями"
      ]
    },
    {
      "cell_type": "markdown",
      "metadata": {
        "id": "b8vwjQNqEDBU"
      },
      "source": [
        "__Автор задач: Блохин Н.В. (NVBlokhin@fa.ru)__\n",
        "\n",
        "Материалы:\n",
        "* Макрушин С.В. Лекция \"Работа со строковыми значениям\"\n",
        "* https://pyformat.info/\n",
        "* https://docs.python.org/3/library/re.html\n",
        "    * https://docs.python.org/3/library/re.html#flags\n",
        "    * https://docs.python.org/3/library/re.html#functions\n",
        "* https://pythonru.com/primery/primery-primeneniya-regulyarnyh-vyrazheniy-v-python\n",
        "* https://kanoki.org/2019/11/12/how-to-use-regex-in-pandas/\n",
        "* https://realpython.com/nltk-nlp-python/"
      ]
    },
    {
      "cell_type": "markdown",
      "metadata": {
        "id": "vKMnHucUEDBV"
      },
      "source": [
        "## Задачи для совместного разбора"
      ]
    },
    {
      "cell_type": "markdown",
      "metadata": {
        "id": "0ppsikGAEDBV"
      },
      "source": [
        "1. Вывести на экран данные из словаря `obj` построчно в виде `k = v`, задав формат таким образом, чтобы знак равенства оказался на одной и той же позиции во всех строках. Строковые литералы обернуть в кавычки."
      ]
    },
    {
      "cell_type": "code",
      "execution_count": null,
      "metadata": {
        "colab": {
          "base_uri": "https://localhost:8080/"
        },
        "id": "cBGj0ekUEDBV",
        "outputId": "8f962ca7-6a8a-4315-e574-2c2d66d7911d"
      },
      "outputs": [
        {
          "name": "stdout",
          "output_type": "stream",
          "text": [
            "home_page  = 'https://github.com/pypa/sampleproject'\n",
            "keywords   = 'sample setuptools development'\n",
            "license    = 'MIT'\n"
          ]
        }
      ],
      "source": [
        "obj = {\n",
        "    \"home_page\": \"https://github.com/pypa/sampleproject\",\n",
        "    \"keywords\": \"sample setuptools development\",\n",
        "    \"license\": \"MIT\",\n",
        "}\n",
        "\n",
        "for k, v in obj.items():\n",
        "    print(f\"{k:10} = '{v}'\")\n"
      ]
    },
    {
      "cell_type": "markdown",
      "metadata": {
        "id": "hLF4vFsTEDBW"
      },
      "source": [
        "2. Написать регулярное выражение,которое позволит найти номера групп студентов."
      ]
    },
    {
      "cell_type": "markdown",
      "metadata": {
        "id": "rOFugz3BEDBX"
      },
      "source": [
        "3. Разбейте текст формулировки задачи 2 на слова."
      ]
    },
    {
      "cell_type": "code",
      "execution_count": 1,
      "metadata": {
        "colab": {
          "base_uri": "https://localhost:8080/"
        },
        "id": "1Rie0nwjFLqM",
        "outputId": "38595fd4-f1f9-4e83-cc57-601d71a0c86e"
      },
      "outputs": [
        {
          "output_type": "stream",
          "name": "stdout",
          "text": [
            "['Написать', 'регулярное', 'выражение,', 'которое', 'позволит', 'найти', 'номера', 'групп', 'студентов.']\n"
          ]
        }
      ],
      "source": [
        "text = 'Написать регулярное выражение, которое позволит найти номера групп студентов.'\n",
        "print(text.split())"
      ]
    },
    {
      "cell_type": "markdown",
      "metadata": {
        "id": "jay5meLVEDBX"
      },
      "source": [
        "## Лабораторная работа 6"
      ]
    },
    {
      "cell_type": "markdown",
      "metadata": {
        "id": "un17yAVuEDBX"
      },
      "source": [
        "### Форматирование строк"
      ]
    },
    {
      "cell_type": "markdown",
      "metadata": {
        "id": "KulzEXiOEDBY"
      },
      "source": [
        "1\\. Загрузите данные из файла `recipes_sample.csv` (__ЛР2__) в виде `pd.DataFrame` `recipes` При помощи форматирования строк выведите информацию об id рецепта и времени выполнения 5 случайных рецептов в виде таблицы следующего вида:\n",
        "\n",
        "    \n",
        "    |      id      |  minutes  |\n",
        "    |--------------------------|\n",
        "    |    61178     |    65     |\n",
        "    |    202352    |    80     |\n",
        "    |    364322    |    150    |\n",
        "    |    26177     |    20     |\n",
        "    |    224785    |    35     |\n",
        "    \n",
        "Обратите внимание, что ширина столбцов заранее неизвестна и должна рассчитываться динамически, в зависимости от тех данных, которые были выбраны. "
      ]
    },
    {
      "cell_type": "code",
      "execution_count": 4,
      "metadata": {
        "colab": {
          "base_uri": "https://localhost:8080/"
        },
        "id": "XfmI-ENmFMZZ",
        "outputId": "750ebbd9-8d0d-40bc-dd9f-7fb0cc677fe3"
      },
      "outputs": [
        {
          "output_type": "stream",
          "name": "stdout",
          "text": [
            "|     id      |  minutes   |\n",
            "|--------------------------|\n",
            "|   66060     |    30      |\n",
            "|   290219    |    20      |\n",
            "|   126156    |    30      |\n",
            "|   256775    |    25      |\n",
            "|   434197    |    90      |\n"
          ]
        }
      ],
      "source": [
        "import pandas as pd\n",
        "\n",
        "recipes = pd.read_csv('recipes_sample.csv')\n",
        "\n",
        "sample_recipes = recipes.sample(n=5)\n",
        "\n",
        "formatted_data = [\n",
        "    '|{:^12} |{:^11} |'.format(row['id'], row['minutes'])\n",
        "    for _, row in sample_recipes.iterrows()\n",
        "]\n",
        "\n",
        "header = '|{:^12} |{:^11} |'.format('id', 'minutes')\n",
        "horizontal_line = '|' + '-'*26 + '|'\n",
        "\n",
        "table = header + '\\n' + horizontal_line + '\\n' + '\\n'.join(formatted_data)\n",
        "\n",
        "print(table)"
      ]
    },
    {
      "cell_type": "markdown",
      "metadata": {
        "id": "MEzHogJnEDBY"
      },
      "source": [
        "2\\. Напишите функцию `show_info`, которая по данным о рецепте создает строку (в смысле объекта python) с описанием следующего вида:\n",
        "\n",
        "```\n",
        "\"Название Из Нескольких Слов\"\n",
        "\n",
        "1. Шаг 1\n",
        "2. Шаг 2\n",
        "----------\n",
        "Автор: contributor_id\n",
        "Среднее время приготовления: minutes минут\n",
        "```\n",
        "\n",
        "    \n",
        "Данные для создания строки получите из файлов `recipes_sample.csv` (__ЛР2__) и `steps_sample.xml` (__ЛР3__). \n",
        "Вызовите данную функцию для рецепта с id `170895` и выведите (через `print`) полученную строку на экран."
      ]
    },
    {
      "cell_type": "code",
      "execution_count": 5,
      "metadata": {
        "colab": {
          "base_uri": "https://localhost:8080/"
        },
        "id": "CdWpCGjtEDBY",
        "outputId": "384b9061-7891-4616-ab4f-1fbb9634dec5"
      },
      "outputs": [
        {
          "output_type": "stream",
          "name": "stdout",
          "text": [
            "\"Leeks And Parsnips  Sauteed Or Creamed\"\n",
            "\n",
            "1. Clean the leeks and discard the dark green portions\n",
            "2. Cut the leeks lengthwise then into one-inch pieces\n",
            "3. Melt the butter in a medium skillet , med\n",
            "4. Heat\n",
            "5. Add the garlic and fry 'til fragrant\n",
            "6. Add leeks and fry until the leeks are tender , about 6-minutes\n",
            "7. Meanwhile , peel and chunk the parsnips into one-inch pieces\n",
            "8. Place in a steaming basket and steam 'til they are as tender as you prefer\n",
            "9. I like them fork-tender\n",
            "10. Drain parsnips and add to the skillet with the leeks\n",
            "11. Add salt and pepper\n",
            "12. Gently sautee together for 5-minutes\n",
            "13. At this point you can serve it , or continue on and cream it:\n",
            "14. In a jar with a screw top , add the half-n-half and arrowroot\n",
            "15. Shake 'til blended\n",
            "16. Turn heat to low under the leeks and parsnips\n",
            "17. Pour in the arrowroot mixture , stirring gently as you pour\n",
            "18. If too thick , gradually add the water\n",
            "19. Let simmer for a couple of minutes\n",
            "20. Taste to adjust seasoning , probably an additional 1 / 2 teaspoon salt\n",
            "21. Serve warm\n",
            "----------\n",
            "Автор: 8377\n",
            "Среднее время приготовления: 27 минут\n",
            "\n"
          ]
        }
      ],
      "source": [
        "import pandas as pd\n",
        "from bs4 import BeautifulSoup\n",
        "\n",
        "recipes = pd.read_csv('recipes_sample.csv')\n",
        "\n",
        "with open('steps_sample.xml') as f:\n",
        "    ab = BeautifulSoup(f, 'xml')\n",
        "\n",
        "steps_dict = {int(recipe.id.text): [step.text for step in recipe.find_all('step')] for recipe in ab.find_all('recipe')}\n",
        "\n",
        "def show_info(recipe_id):\n",
        "    row = recipes.loc[recipes['id'] == recipe_id].iloc[0]\n",
        "    steps = steps_dict.get(recipe_id, [])\n",
        "\n",
        "    return f'\"{row[\"name\"].title()}\"\\n\\n' + '\\n'.join([f'{i+1}. {step.capitalize()}' for i, step in enumerate(steps)]) + \\\n",
        "           f'\\n{\"-\"*10}\\nАвтор: {row[\"contributor_id\"]}\\nСреднее время приготовления: {row[\"minutes\"]} минут\\n'\n",
        "\n",
        "print(show_info(170895))"
      ]
    },
    {
      "cell_type": "markdown",
      "metadata": {
        "id": "uD-NGeKkEDBZ"
      },
      "source": [
        "## Работа с регулярными выражениями"
      ]
    },
    {
      "cell_type": "markdown",
      "metadata": {
        "id": "tMbWAymEEDBZ"
      },
      "source": [
        "3\\. Напишите регулярное выражение, которое ищет следующий паттерн в строке: число (1 цифра или более), затем пробел, затем слова: hour или hours или minute или minutes. Произведите поиск по данному регулярному выражению в каждом шаге рецепта с id 25082. Выведите на экран все непустые результаты, найденные по данному шаблону."
      ]
    },
    {
      "cell_type": "code",
      "execution_count": 6,
      "metadata": {
        "colab": {
          "base_uri": "https://localhost:8080/"
        },
        "id": "om8pmS8pFdfz",
        "outputId": "fdb58e09-087f-4dab-f042-d15a8540f75e"
      },
      "outputs": [
        {
          "output_type": "stream",
          "name": "stdout",
          "text": [
            "Шаг 6: 20 minutes\n",
            "Шаг 8: 10 minutes\n",
            "Шаг 10: 2 hours\n",
            "Шаг 14: 10 minutes\n",
            "Шаг 17: 20 minutes, 30 minutes\n"
          ]
        }
      ],
      "source": [
        "import re\n",
        "import xml.etree.ElementTree as ET\n",
        "\n",
        "# чтение XML файла\n",
        "tree = ET.parse('steps_sample.xml')\n",
        "root = tree.getroot()\n",
        "\n",
        "# поиск шагов рецепта с id 25082\n",
        "for recipe in root.findall(\".//recipe[id='25082']\"):\n",
        "    for i, step in enumerate(recipe.findall(\"steps/step\"), 1):\n",
        "        matches = re.findall(r'\\d+\\s+(?:hour|minute)s?', step.text)\n",
        "        if matches:\n",
        "            print(f\"Шаг {i}: {', '.join(matches)}\")\n",
        "\n"
      ]
    },
    {
      "cell_type": "markdown",
      "metadata": {
        "id": "T7ZoK50IEDBZ"
      },
      "source": [
        "4\\. Напишите регулярное выражение, которое ищет шаблон вида \"this..., but\" _в начале строки_ . Между словом \"this\" и частью \", but\" может находиться произвольное число букв, цифр, знаков подчеркивания и пробелов. Никаких других символов вместо многоточия быть не может. Пробел между запятой и словом \"but\" может присутствовать или отсутствовать.\n",
        "\n",
        "Используя строковые методы `pd.Series`, выясните, для каких рецептов данный шаблон содержится в тексте описания. Выведите на экран количество таких рецептов и 3 примера подходящих описаний (текст описания должен быть виден на экране полностью)."
      ]
    },
    {
      "cell_type": "code",
      "execution_count": 7,
      "metadata": {
        "id": "9Bn30xJsFd9G",
        "colab": {
          "base_uri": "https://localhost:8080/"
        },
        "outputId": "248aa9eb-62a5-42c4-9a29-9f92c4359cd8"
      },
      "outputs": [
        {
          "output_type": "stream",
          "name": "stdout",
          "text": [
            "Количество подходящих описаний: 134\n",
            "28730                                                                    this is fabulous for a brunch, but i usually make it for dinner.\n",
            "1490     this dressing is wonderful on baby greens salad, but i would put it on, or mix it in, with any salad. it's simple and delicious!\n",
            "22422                     this is really great to have on hand when you have little time, but want something fresh and hot for breakfast.\n",
            "Name: description, dtype: object\n"
          ]
        }
      ],
      "source": [
        "import pandas as pd\n",
        "\n",
        "df_recipes = pd.read_csv('recipes_sample.csv')\n",
        "\n",
        "df_recipes['description'].fillna(' ', inplace=True)\n",
        "\n",
        "pattern = '^this[\\w\\d\\s]+,[ ]?but'\n",
        "matching_descriptions = df_recipes[df_recipes['description'].str.contains(pattern, regex=True)]\n",
        "\n",
        "print('Количество подходящих описаний:', matching_descriptions.shape[0])\n",
        "pd.set_option('max_colwidth', int(matching_descriptions['description'].apply(len).max() + 10))\n",
        "print(matching_descriptions['description'].sample(3))"
      ]
    },
    {
      "cell_type": "markdown",
      "metadata": {
        "id": "XB4--PDMEDBZ"
      },
      "source": [
        "5\\. В текстах шагов рецептов обыкновенные дроби имеют вид \"a / b\". Используя регулярные выражения, уберите в тексте шагов рецепта с id 72367 пробелы до и после символа дроби. Выведите на экран шаги этого рецепта после их изменения."
      ]
    },
    {
      "cell_type": "code",
      "execution_count": 8,
      "metadata": {
        "id": "7j4M62SjFeip",
        "colab": {
          "base_uri": "https://localhost:8080/"
        },
        "outputId": "676a844c-6c01-413e-e1d8-8bb2a6d9425d"
      },
      "outputs": [
        {
          "output_type": "stream",
          "name": "stdout",
          "text": [
            "mix butter , flour , 1/3 c\n",
            "sugar and 1-1/4 t\n",
            "vanilla\n",
            "press into greased 9\" springform pan\n",
            "mix cream cheese , 1/4 c\n",
            "sugar , eggs and 1/2 t\n",
            "vanilla beating until fluffy\n",
            "pour over dough\n",
            "combine apples , 1/3 c\n",
            "sugar and cinnamon\n",
            "arrange on top of cream cheese mixture and sprinkle with almonds\n",
            "bake at 350 for 45-55 minutes , or until tester comes out clean\n"
          ]
        }
      ],
      "source": [
        "import pandas as pd\n",
        "import xml.etree.ElementTree as ET\n",
        "import re\n",
        "\n",
        "tree = ET.parse('steps_sample.xml')\n",
        "root = tree.getroot()\n",
        "\n",
        "recipe_id = '72367'\n",
        "recipe_steps = root.findall(f\".//recipe[id='{recipe_id}']/steps/step\")\n",
        "\n",
        "for step in recipe_steps:\n",
        "    step_text = step.text\n",
        "    if step_text:\n",
        "        step_text = re.sub(r'\\s*/\\s*', '/', step_text)\n",
        "        step.text = step_text\n",
        "\n",
        "for step in recipe_steps:\n",
        "    print(step.text)\n"
      ]
    },
    {
      "cell_type": "markdown",
      "metadata": {
        "id": "Ix9NEK4QEDBZ"
      },
      "source": [
        "### Сегментация текста"
      ]
    },
    {
      "cell_type": "markdown",
      "metadata": {
        "id": "52wV-OR8EDBa"
      },
      "source": [
        "6\\. Разбейте тексты шагов рецептов на слова при помощи пакета `nltk`. Посчитайте и выведите на экран кол-во уникальных слов среди всех рецептов. Словом называется любая последовательность алфавитных символов (для проверки можно воспользоваться `str.isalpha`). При подсчете количества уникальных слов не учитывайте регистр."
      ]
    },
    {
      "cell_type": "code",
      "source": [
        "!pip install nltk"
      ],
      "metadata": {
        "colab": {
          "base_uri": "https://localhost:8080/"
        },
        "id": "d5wLCnplkvhM",
        "outputId": "eb9f6626-5667-4a09-e920-6b8697b47e10"
      },
      "execution_count": 10,
      "outputs": [
        {
          "output_type": "stream",
          "name": "stdout",
          "text": [
            "Looking in indexes: https://pypi.org/simple, https://us-python.pkg.dev/colab-wheels/public/simple/\n",
            "Requirement already satisfied: nltk in /usr/local/lib/python3.10/dist-packages (3.8.1)\n",
            "Requirement already satisfied: click in /usr/local/lib/python3.10/dist-packages (from nltk) (8.1.3)\n",
            "Requirement already satisfied: joblib in /usr/local/lib/python3.10/dist-packages (from nltk) (1.2.0)\n",
            "Requirement already satisfied: regex>=2021.8.3 in /usr/local/lib/python3.10/dist-packages (from nltk) (2022.10.31)\n",
            "Requirement already satisfied: tqdm in /usr/local/lib/python3.10/dist-packages (from nltk) (4.65.0)\n"
          ]
        }
      ]
    },
    {
      "cell_type": "code",
      "execution_count": 11,
      "metadata": {
        "id": "YEul3Cs6FfD0",
        "colab": {
          "base_uri": "https://localhost:8080/"
        },
        "outputId": "d6d93d6e-3cdb-4539-a063-41ec2c401142"
      },
      "outputs": [
        {
          "output_type": "stream",
          "name": "stdout",
          "text": [
            "Количество уникальных слов: 14953\n"
          ]
        }
      ],
      "source": [
        "import nltk\n",
        "from nltk.tokenize.toktok import ToktokTokenizer\n",
        "\n",
        "recipe_steps = {}\n",
        "for recipe in ab.find_all('recipe'):\n",
        "    recipe_id = int(recipe.id.text)\n",
        "    steps = [step.text for step in recipe.find_all('step')]\n",
        "    recipe_steps[recipe_id] = steps\n",
        "\n",
        "flat_steps = [step.lower() for steps in recipe_steps.values() for step in steps]\n",
        "\n",
        "toktok = ToktokTokenizer()\n",
        "\n",
        "token_list = toktok.tokenize(flat_steps)\n",
        "word_list = filter(str.isalpha, token_list)\n",
        "\n",
        "unique_word_set = set(word_list)\n",
        "print(f\"Количество уникальных слов: {len(unique_word_set)}\")\n"
      ]
    },
    {
      "cell_type": "markdown",
      "metadata": {
        "id": "sAbo7YEZEDBa"
      },
      "source": [
        "7\\. Разбейте описания рецептов из `recipes` на предложения при помощи пакета `nltk`. Найдите 5 самых длинных описаний (по количеству _предложений_) рецептов в датасете и выведите строки фрейма, соответствующие этим рецептами, в порядке убывания длины."
      ]
    },
    {
      "cell_type": "code",
      "source": [
        "import nltk\n",
        "nltk.download('punkt')\n",
        "nltk.download('averaged_perceptron_tagger')"
      ],
      "metadata": {
        "colab": {
          "base_uri": "https://localhost:8080/"
        },
        "id": "WPp2TRzSlqjX",
        "outputId": "d83d36fb-799a-4c70-e461-b9b0810647e2"
      },
      "execution_count": 15,
      "outputs": [
        {
          "output_type": "stream",
          "name": "stderr",
          "text": [
            "[nltk_data] Downloading package punkt to /root/nltk_data...\n",
            "[nltk_data]   Package punkt is already up-to-date!\n",
            "[nltk_data] Downloading package averaged_perceptron_tagger to\n",
            "[nltk_data]     /root/nltk_data...\n",
            "[nltk_data]   Unzipping taggers/averaged_perceptron_tagger.zip.\n"
          ]
        },
        {
          "output_type": "execute_result",
          "data": {
            "text/plain": [
              "True"
            ]
          },
          "metadata": {},
          "execution_count": 15
        }
      ]
    },
    {
      "cell_type": "code",
      "execution_count": 14,
      "metadata": {
        "id": "R4c2y16xFfx-",
        "colab": {
          "base_uri": "https://localhost:8080/"
        },
        "outputId": "48f8f9b0-8abb-49d5-ce2f-78dc1ab3da5b"
      },
      "outputs": [
        {
          "output_type": "stream",
          "name": "stdout",
          "text": [
            "                                                                   name  \\\n",
            "18408                      my favorite buttercream icing for decorating   \n",
            "481           alligator claws  avocado fritters  with chipotle lime dip   \n",
            "22566                                         rich barley mushroom soup   \n",
            "6779                                                      chocolate tea   \n",
            "16296  little bunny foo foo cake  carrot cake  with cream cheese frosti   \n",
            "\n",
            "       sentences_count  \\\n",
            "18408               76   \n",
            "481                 27   \n",
            "22566               24   \n",
            "6779                23   \n",
            "16296               23   \n",
            "\n",
            "                                                                                                                                                                                                                                                                                                                                                                                                                                                                                                                                                                                                                                                                                                                                                                                                                                                                                           description  \n",
            "18408  this wonderful icing is used for icing cakes and cookies as well as for borders and art work on cakes.  it makes a delicious filling also between the layers of cakes and under fondant icing.  you can make roses but it takes 3 or more days to dry them depending on the humidity. \\r\\n\\r\\nthere are many versions of “buttercream” icing. some are made with eggs and all butter.  some varieties, you have to cook your sugar to a softball stage.  others are 100% shortening or a combination of shortening and butter.\\r\\n\\r\\neach decorator has his or her favorite.  i personally think that the best taste and textured recipe is the one that has you cook your sugar, add to whipped eggs and use pounds of butter per batch. but…. i live in a state that can easily be a 100 degrees for days on end during the summer and you know what butter does on hot days.  it melts! ...  \n",
            "481    a translucent golden-brown crust allows the green of the avocado to be seen.  the crispy exterior is a counterpoint to the unctuous interior.  these are a signature dish for me, and the one i most often get requests to make (although my seafood and ricotta stuffed buckwheat pancakes run a close second).\\r\\n\\r\\nthese fritters came about ten years ago when i was shopping for a dinner i was making for a friend who is a cia-trained chef.  i was in a vegetable market and saw these gorgeous avocados that i just knew would be ripe in the next two days.  i tried to think of what i could do with them since a) everyone serves cold avocado, and b) i really am not fond of guacamole.  as i tried to think of what i could make with them that was hot, the work 'fritters' jumped into my head.  having never made a fritter before, i was a little surprised to have tha...  \n",
            "22566  this is one of the best soups i've ever made and it is even worthy of company.  so simple, yet rich in deep, mushroomy flavor.  the inspiration was zaar #26877, a delicious mushroom rice casserole.  i found i couldn't stop eating the liquid before putting the casserole into the oven and that gave me the idea that the base  would make a delicious soup.  and it does! \\r\\nuse plenty of fresh mushrooms.  i buy them when they are marked 1/2 price at the grocery, as this is a good way to use your 'shrooms that are starting to get dark.  it is the soy sauce that transforms the broth from ho-hum to yum.  i try to use low sodium or home-made no sodium chicken broth so that i can use the soy for the sodium.  there is no sense of \"asian\" in this soup at all.  ( i would not make this without the soy. )  just a little bit adds the depth of flavor and even color...  \n",
            "6779   i wrote this because there are an astounding lack of chocolate tea recipes on the internet. \\r\\n\\r\\n the first time i heard about chocolate tea was doing a web search on chocolate. there seem to be a few companies out there who sell chocolate tea. i like to stay up late and had run out of coffee. i was in real need for a good tasting caffene beverage. i first thought chocolate tea would be yucky. we are conditioned to accept chocolate with coffee as a rule but not tea. i was very mistaken! \\r\\n\\r\\n tea and chocolate goes very well with each other and it is also very good for your body. both tea and chocolate are loaded with antioxidents. you may however not want to give this to small children because of the caffene. \\r\\n\\r\\n not having a recipe to follow, i created one. (this one) i used these ingredients because i had them on hand and it was quick...  \n",
            "16296  the first time i made this cake i grated a million pounds of carrots on a knucklebuster.  then they invented cuisinarts!  now it is much faster to shred the carrots on a fine shredding disk and no bloody knuckles!  i have baked it in 8\", 9\", 9x13\" pans so if you want to experiment with pan size it works.  one thing i found was baking and stacking the three layers is tricky.  my favorite way is two 8\" pans for a nice layer cake and an 8\" square pan to put into the freezer for unexpected company. i hope you try this wonderful cake.  update:  in the spirit of carrot cake stories, this cake was invented by a bunny named foo-foo.  he is very famous and even has a hit song which goes like this: sing to the tune of 'down by the station'..........     \\r\\n\\r\\n\\r\\n little bunny foo foo,\\r\\nhopping through the forest,\\r\\nscooping up the field mice,\\r\\nand bo...  \n"
          ]
        }
      ],
      "source": [
        "import nltk\n",
        "import pandas as pd\n",
        "\n",
        "# загрузка данных\n",
        "df_recipes = pd.read_csv('recipes_sample.csv')\n",
        "\n",
        "# проверка типов данных столбца 'description'\n",
        "df_recipes = df_recipes.loc[df_recipes['description'].apply(lambda x: isinstance(x, str))]\n",
        "\n",
        "# разбиение описаний на предложения и подсчет количества предложений\n",
        "df_recipes['sentences'] = df_recipes['description'].apply(nltk.sent_tokenize)\n",
        "df_recipes['sentences_count'] = df_recipes['sentences'].apply(len)\n",
        "\n",
        "# определение 5 самых длинных описаний по количеству предложений\n",
        "top_5_longest = df_recipes.nlargest(5, 'sentences_count', keep='all')\n",
        "\n",
        "# вывод самых длинных описаний\n",
        "print(top_5_longest[['name', 'sentences_count', 'description']].head())"
      ]
    },
    {
      "cell_type": "markdown",
      "metadata": {
        "id": "ceSn66AZEDBa"
      },
      "source": [
        "8\\. Напишите функцию, которая для заданного предложения выводит информацию о частях речи слов, входящих в предложение, в следующем виде:\n",
        "```\n",
        "PRP   VBD   DT      NNS     CC   VBD      NNS        RB   \n",
        " I  omitted the raspberries and added strawberries instead\n",
        "``` \n",
        "Для определения части речи слова можно воспользоваться `nltk.pos_tag`.\n",
        "\n",
        "Проверьте работоспособность функции на названии рецепта с id 241106.\n",
        "\n",
        "Обратите внимание, что часть речи должна находиться ровно посередине над соотвествующим словом, а между самими словами должен быть ровно один пробел.\n"
      ]
    },
    {
      "cell_type": "code",
      "source": [
        "import nltk\n",
        "import pandas as pd\n",
        "\n",
        "recipes = pd.read_csv('recipes_sample.csv')\n",
        "\n",
        "def pos_info(recipe_id):\n",
        "    recipe_name = recipes.loc[recipes['id'] == recipe_id, 'name'].values[0]\n",
        "    tokens = nltk.word_tokenize(recipe_name)\n",
        "    pos_tags = nltk.pos_tag(tokens)\n",
        "    pos_list = [pos[1] for pos in pos_tags]\n",
        "    words_list = [pos[0] for pos in pos_tags]\n",
        "    max_len = max(len(word) for word in words_list)\n",
        "    output = ' '.join('{{:^{}}}'.format(max_len).format(pos) for pos in pos_list) + '\\n'\n",
        "    output += ' '.join('{{:^{}}}'.format(max_len).format(word) for word in words_list) + '\\n'\n",
        "    return output\n",
        "\n",
        "print(pos_info(241106))"
      ],
      "metadata": {
        "colab": {
          "base_uri": "https://localhost:8080/"
        },
        "id": "i89MCEO6NHh0",
        "outputId": "f1e5bdcf-fa6b-4c28-e0fd-8e098c7cb3a7"
      },
      "execution_count": 16,
      "outputs": [
        {
          "output_type": "stream",
          "name": "stdout",
          "text": [
            "   JJ        NNS       IN        NNS       VBP       JJ        CC        JJ        NNS   \n",
            "eggplant   steaks     with    chickpeas   feta     cheese      and      black    olives  \n",
            "\n"
          ]
        }
      ]
    }
  ],
  "metadata": {
    "colab": {
      "provenance": []
    },
    "kernelspec": {
      "display_name": "Python 3 (ipykernel)",
      "language": "python",
      "name": "python3"
    },
    "language_info": {
      "codemirror_mode": {
        "name": "ipython",
        "version": 3
      },
      "file_extension": ".py",
      "mimetype": "text/x-python",
      "name": "python",
      "nbconvert_exporter": "python",
      "pygments_lexer": "ipython3",
      "version": "3.9.7"
    }
  },
  "nbformat": 4,
  "nbformat_minor": 0
}