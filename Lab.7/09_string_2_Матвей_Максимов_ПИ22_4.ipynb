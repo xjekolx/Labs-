{
  "cells": [
    {
      "cell_type": "markdown",
      "metadata": {
        "id": "ZwdFUBrSCF69"
      },
      "source": [
        "# Введение в обработку текста на естественном языке"
      ]
    },
    {
      "cell_type": "markdown",
      "metadata": {
        "id": "FFgC5JlNCF7B"
      },
      "source": [
        "Материалы:\n",
        "* Макрушин С.В. Лекция 9: Введение в обработку текста на естественном языке\\\n",
        "* https://realpython.com/nltk-nlp-python/\n",
        "* https://scikit-learn.org/stable/modules/feature_extraction.html"
      ]
    },
    {
      "cell_type": "markdown",
      "metadata": {
        "id": "b_EMmVxnCF7E"
      },
      "source": [
        "## Задачи для совместного разбора"
      ]
    },
    {
      "cell_type": "code",
      "execution_count": 1,
      "metadata": {
        "colab": {
          "base_uri": "https://localhost:8080/"
        },
        "id": "ZzukSGijCF7F",
        "outputId": "54085813-bf25-4413-b5f9-a8f81154e5e6"
      },
      "outputs": [
        {
          "output_type": "stream",
          "name": "stdout",
          "text": [
            "Looking in indexes: https://pypi.org/simple, https://us-python.pkg.dev/colab-wheels/public/simple/\n",
            "Requirement already satisfied: scikit-learn in /usr/local/lib/python3.10/dist-packages (1.2.2)\n",
            "Requirement already satisfied: numpy>=1.17.3 in /usr/local/lib/python3.10/dist-packages (from scikit-learn) (1.22.4)\n",
            "Requirement already satisfied: scipy>=1.3.2 in /usr/local/lib/python3.10/dist-packages (from scikit-learn) (1.10.1)\n",
            "Requirement already satisfied: joblib>=1.1.1 in /usr/local/lib/python3.10/dist-packages (from scikit-learn) (1.2.0)\n",
            "Requirement already satisfied: threadpoolctl>=2.0.0 in /usr/local/lib/python3.10/dist-packages (from scikit-learn) (3.1.0)\n",
            "Looking in indexes: https://pypi.org/simple, https://us-python.pkg.dev/colab-wheels/public/simple/\n",
            "Collecting pymorphy2\n",
            "  Downloading pymorphy2-0.9.1-py3-none-any.whl (55 kB)\n",
            "\u001b[2K     \u001b[90m━━━━━━━━━━━━━━━━━━━━━━━━━━━━━━━━━━━━━━━━\u001b[0m \u001b[32m55.5/55.5 kB\u001b[0m \u001b[31m6.0 MB/s\u001b[0m eta \u001b[36m0:00:00\u001b[0m\n",
            "\u001b[?25hCollecting dawg-python>=0.7.1 (from pymorphy2)\n",
            "  Downloading DAWG_Python-0.7.2-py2.py3-none-any.whl (11 kB)\n",
            "Collecting pymorphy2-dicts-ru<3.0,>=2.4 (from pymorphy2)\n",
            "  Downloading pymorphy2_dicts_ru-2.4.417127.4579844-py2.py3-none-any.whl (8.2 MB)\n",
            "\u001b[2K     \u001b[90m━━━━━━━━━━━━━━━━━━━━━━━━━━━━━━━━━━━━━━━━\u001b[0m \u001b[32m8.2/8.2 MB\u001b[0m \u001b[31m85.2 MB/s\u001b[0m eta \u001b[36m0:00:00\u001b[0m\n",
            "\u001b[?25hCollecting docopt>=0.6 (from pymorphy2)\n",
            "  Downloading docopt-0.6.2.tar.gz (25 kB)\n",
            "  Preparing metadata (setup.py) ... \u001b[?25l\u001b[?25hdone\n",
            "Building wheels for collected packages: docopt\n",
            "  Building wheel for docopt (setup.py) ... \u001b[?25l\u001b[?25hdone\n",
            "  Created wheel for docopt: filename=docopt-0.6.2-py2.py3-none-any.whl size=13707 sha256=ef14296f6703e777282832dfe1551580b77aa64c56a973889e090cecab1ca47f\n",
            "  Stored in directory: /root/.cache/pip/wheels/fc/ab/d4/5da2067ac95b36618c629a5f93f809425700506f72c9732fac\n",
            "Successfully built docopt\n",
            "Installing collected packages: pymorphy2-dicts-ru, docopt, dawg-python, pymorphy2\n",
            "Successfully installed dawg-python-0.7.2 docopt-0.6.2 pymorphy2-0.9.1 pymorphy2-dicts-ru-2.4.417127.4579844\n"
          ]
        }
      ],
      "source": [
        "!pip install scikit-learn\n",
        "!pip install pymorphy2\n",
        "\n",
        "from sklearn.feature_extraction.text import CountVectorizer\n",
        "import pymorphy2\n",
        "from nltk.metrics.distance import edit_distance"
      ]
    },
    {
      "cell_type": "markdown",
      "metadata": {
        "id": "JaZ-oGRxCF7J"
      },
      "source": [
        "1. Считайте слова из файла `litw-win.txt` и запишите их в список `words`. В заданном предложении исправьте все опечатки, заменив слова с опечатками на ближайшие (в смысле расстояния Левенштейна) к ним слова из списка `words`. Считайте, что в слове есть опечатка, если данное слово не содержится в списке `words`. "
      ]
    },
    {
      "cell_type": "code",
      "execution_count": null,
      "metadata": {
        "id": "zJ2H_ZxlCF7L"
      },
      "outputs": [],
      "source": [
        "text = '''с велечайшим усилием выбравшись из потока убегающих людей Кутузов со свитой уменьшевшейся вдвое поехал на звуки выстрелов русских орудий'''"
      ]
    },
    {
      "cell_type": "markdown",
      "metadata": {
        "id": "eCyImYO-CF7N"
      },
      "source": [
        "2. Разбейте текст из формулировки задания 1 на слова; проведите стемминг и лемматизацию слов."
      ]
    },
    {
      "cell_type": "code",
      "execution_count": 2,
      "metadata": {
        "colab": {
          "base_uri": "https://localhost:8080/"
        },
        "id": "Xbc4J0G_CF7N",
        "outputId": "b3b51616-f8c9-4aea-d97a-c6faf06802bf"
      },
      "outputs": [
        {
          "output_type": "stream",
          "name": "stdout",
          "text": [
            "Looking in indexes: https://pypi.org/simple, https://us-python.pkg.dev/colab-wheels/public/simple/\n",
            "Requirement already satisfied: nltk in /usr/local/lib/python3.10/dist-packages (3.8.1)\n",
            "Requirement already satisfied: click in /usr/local/lib/python3.10/dist-packages (from nltk) (8.1.3)\n",
            "Requirement already satisfied: joblib in /usr/local/lib/python3.10/dist-packages (from nltk) (1.2.0)\n",
            "Requirement already satisfied: regex>=2021.8.3 in /usr/local/lib/python3.10/dist-packages (from nltk) (2022.10.31)\n",
            "Requirement already satisfied: tqdm in /usr/local/lib/python3.10/dist-packages (from nltk) (4.65.0)\n"
          ]
        },
        {
          "output_type": "stream",
          "name": "stderr",
          "text": [
            "[nltk_data] Downloading package punkt to /root/nltk_data...\n",
            "[nltk_data]   Unzipping tokenizers/punkt.zip.\n"
          ]
        },
        {
          "output_type": "execute_result",
          "data": {
            "text/plain": [
              "True"
            ]
          },
          "metadata": {},
          "execution_count": 2
        }
      ],
      "source": [
        "!pip install nltk\n",
        "from nltk.stem import SnowballStemmer\n",
        "from nltk.tokenize import sent_tokenize, word_tokenize\n",
        "import nltk\n",
        "nltk.download('punkt')\n"
      ]
    },
    {
      "cell_type": "markdown",
      "metadata": {
        "id": "IsqN1JbxCF7P"
      },
      "source": [
        "3. Преобразуйте предложения из формулировки задания 1 в векторы при помощи `CountVectorizer`."
      ]
    },
    {
      "cell_type": "markdown",
      "metadata": {
        "id": "glyTfAHwCF7R"
      },
      "source": [
        "## Лабораторная работа 9"
      ]
    },
    {
      "cell_type": "markdown",
      "metadata": {
        "id": "bxZTMyRuCF7R"
      },
      "source": [
        "### Расстояние редактирования"
      ]
    },
    {
      "cell_type": "markdown",
      "metadata": {
        "id": "5pJTPGESCF7S"
      },
      "source": [
        "1.1 Загрузите предобработанные описания рецептов из файла `preprocessed_descriptions.csv`. Получите набор уникальных слов `words`, содержащихся в текстах описаний рецептов (воспользуйтесь `word_tokenize` из `nltk`). "
      ]
    },
    {
      "cell_type": "code",
      "execution_count": 7,
      "metadata": {
        "id": "dO2YF922CF7S"
      },
      "outputs": [],
      "source": [
        "import pandas as pd\n",
        "from nltk.tokenize import word_tokenize"
      ]
    },
    {
      "cell_type": "code",
      "execution_count": 8,
      "metadata": {
        "colab": {
          "base_uri": "https://localhost:8080/"
        },
        "id": "OtPtiIqECF7T",
        "outputId": "7bced826-52b9-4dee-f976-8db83bb2990a"
      },
      "outputs": [
        {
          "output_type": "stream",
          "name": "stdout",
          "text": [
            "Весего 1069254 слов\n",
            "Среди них 32868 уникальных\n"
          ]
        }
      ],
      "source": [
        "preprocessed_descriptions = pd.read_csv(\"preprocessed_descriptions.csv\")\n",
        "\n",
        "words_set = set()\n",
        "words_list = list()\n",
        "words = [word_tokenize(item) for item in preprocessed_descriptions[\"preprocessed_descriptions\"].to_list() if isinstance(item, str)]\n",
        "\n",
        "[[words_set.add(x) for x in item] for item in words]\n",
        "[[words_list.append(x) for x in item] for item in words]\n",
        "    \n",
        "print(f\"Весего {len(words_list)} слов\\nСреди них {len(words_set)} уникальных\")"
      ]
    },
    {
      "cell_type": "markdown",
      "metadata": {
        "id": "h1ArG1s6CF7U"
      },
      "source": [
        "1.2 Сгенерируйте 5 пар случайно выбранных слов и посчитайте между ними расстояние редактирования."
      ]
    },
    {
      "cell_type": "code",
      "execution_count": 10,
      "metadata": {
        "colab": {
          "base_uri": "https://localhost:8080/"
        },
        "id": "iU3Z7wrYCF7V",
        "outputId": "bd71d412-bc7f-4195-85e9-afeb9be60a2e"
      },
      "outputs": [
        {
          "output_type": "stream",
          "name": "stdout",
          "text": [
            "Расстояние между '201650' и 'seemingly': 9\n",
            "Расстояние между 'exampleshes' и 'greentown': 11\n",
            "Расстояние между 'moldy' и 'comfortinggoes': 12\n",
            "Расстояние между 'foccacia' и 'opted': 7\n",
            "Расстояние между 'cookbookserve' и 'edible': 11\n"
          ]
        }
      ],
      "source": [
        "import random\n",
        "from nltk.metrics.distance import edit_distance\n",
        "\n",
        "words_list = list(words_set)\n",
        "\n",
        "for i in range(5):\n",
        "    word1, word2 = random.sample(words_list, 2)\n",
        "    print(f\"Расстояние между '{word1}' и '{word2}': {edit_distance(word1, word2)}\")"
      ]
    },
    {
      "cell_type": "markdown",
      "metadata": {
        "id": "mvqSIFOFCF7V"
      },
      "source": [
        "1.3 Напишите функцию, которая для заданного слова `word` возвращает `k` ближайших к нему слов из списка `words` (близость слов измеряется с помощью расстояния Левенштейна)"
      ]
    },
    {
      "cell_type": "code",
      "execution_count": 11,
      "metadata": {
        "colab": {
          "base_uri": "https://localhost:8080/"
        },
        "id": "iMba0rF0CF7W",
        "outputId": "bcc84a8c-b285-4dec-8e25-cab8e75726a4"
      },
      "outputs": [
        {
          "output_type": "execute_result",
          "data": {
            "text/plain": [
              "[(0, 'seedless'),\n",
              " (1, 'needless'),\n",
              " (2, 'endless'),\n",
              " (2, 'needles'),\n",
              " (3, 'needle'),\n",
              " (3, 'eggless'),\n",
              " (3, 'settles'),\n",
              " (3, 'useless'),\n",
              " (3, 'seeded'),\n",
              " (3, 'seeds'),\n",
              " (3, 'feeders')]"
            ]
          },
          "metadata": {},
          "execution_count": 11
        }
      ],
      "source": [
        "from typing import Set, List\n",
        "\n",
        "def same_words(word: str, k: int, words_data: Set[str]) -> List[str]:\n",
        "    buf_tuple = [(edit_distance(word, item), item) for item in words_data]\n",
        "    buf_tuple.sort(key=lambda x: x[0])\n",
        "    return buf_tuple[:k]\n",
        "\n",
        "same_words(\"seedless\", 11, words_set)"
      ]
    },
    {
      "cell_type": "markdown",
      "metadata": {
        "id": "z0xYpc5gCF7W"
      },
      "source": [
        "### Стемминг, лемматизация"
      ]
    },
    {
      "cell_type": "markdown",
      "metadata": {
        "id": "VkpuIDmXCF7X"
      },
      "source": [
        "2.1 На основе результатов 1.1 создайте `pd.DataFrame` со столбцами: \n",
        "    * word\n",
        "    * stemmed_word \n",
        "    * normalized_word \n",
        "\n",
        "Столбец `word` укажите в качестве индекса. \n",
        "\n",
        "Для стемминга воспользуйтесь `SnowballStemmer`, для нормализации слов - `WordNetLemmatizer`. Сравните результаты стемминга и лемматизации."
      ]
    },
    {
      "cell_type": "code",
      "execution_count": 12,
      "metadata": {
        "colab": {
          "base_uri": "https://localhost:8080/"
        },
        "id": "PJMxSVUpCF7X",
        "outputId": "d7cbabec-67c3-4a57-c85b-275b0cb50f87"
      },
      "outputs": [
        {
          "output_type": "stream",
          "name": "stderr",
          "text": [
            "[nltk_data] Downloading package wordnet to /root/nltk_data...\n"
          ]
        }
      ],
      "source": [
        "from nltk.stem import WordNetLemmatizer, SnowballStemmer\n",
        "import nltk\n",
        "nltk.download('wordnet')\n",
        "lemmatizer = WordNetLemmatizer()\n",
        "stemmer = SnowballStemmer('english')"
      ]
    },
    {
      "cell_type": "code",
      "execution_count": 13,
      "metadata": {
        "colab": {
          "base_uri": "https://localhost:8080/",
          "height": 649
        },
        "id": "dSCuPE9LCF7Y",
        "outputId": "d5499bdc-7511-4dae-932d-acac77e21f14"
      },
      "outputs": [
        {
          "output_type": "execute_result",
          "data": {
            "text/plain": [
              "           stemmed_word normalized_word\n",
              "word                                   \n",
              "scrounging      scroung        scrounge\n",
              "indicates         indic        indicate\n",
              "plunging          plung          plunge\n",
              "glorified       glorifi         glorify\n",
              "shook             shook           shake\n",
              "...                 ...             ...\n",
              "applied           appli           apply\n",
              "are                 are              be\n",
              "horses             hors           horse\n",
              "achieving        achiev         achieve\n",
              "submerged       submerg        submerge\n",
              "\n",
              "[1309 rows x 2 columns]"
            ],
            "text/html": [
              "\n",
              "  <div id=\"df-73de5f88-f137-445a-8d91-734162ec3a14\">\n",
              "    <div class=\"colab-df-container\">\n",
              "      <div>\n",
              "<style scoped>\n",
              "    .dataframe tbody tr th:only-of-type {\n",
              "        vertical-align: middle;\n",
              "    }\n",
              "\n",
              "    .dataframe tbody tr th {\n",
              "        vertical-align: top;\n",
              "    }\n",
              "\n",
              "    .dataframe thead th {\n",
              "        text-align: right;\n",
              "    }\n",
              "</style>\n",
              "<table border=\"1\" class=\"dataframe\">\n",
              "  <thead>\n",
              "    <tr style=\"text-align: right;\">\n",
              "      <th></th>\n",
              "      <th>stemmed_word</th>\n",
              "      <th>normalized_word</th>\n",
              "    </tr>\n",
              "    <tr>\n",
              "      <th>word</th>\n",
              "      <th></th>\n",
              "      <th></th>\n",
              "    </tr>\n",
              "  </thead>\n",
              "  <tbody>\n",
              "    <tr>\n",
              "      <th>scrounging</th>\n",
              "      <td>scroung</td>\n",
              "      <td>scrounge</td>\n",
              "    </tr>\n",
              "    <tr>\n",
              "      <th>indicates</th>\n",
              "      <td>indic</td>\n",
              "      <td>indicate</td>\n",
              "    </tr>\n",
              "    <tr>\n",
              "      <th>plunging</th>\n",
              "      <td>plung</td>\n",
              "      <td>plunge</td>\n",
              "    </tr>\n",
              "    <tr>\n",
              "      <th>glorified</th>\n",
              "      <td>glorifi</td>\n",
              "      <td>glorify</td>\n",
              "    </tr>\n",
              "    <tr>\n",
              "      <th>shook</th>\n",
              "      <td>shook</td>\n",
              "      <td>shake</td>\n",
              "    </tr>\n",
              "    <tr>\n",
              "      <th>...</th>\n",
              "      <td>...</td>\n",
              "      <td>...</td>\n",
              "    </tr>\n",
              "    <tr>\n",
              "      <th>applied</th>\n",
              "      <td>appli</td>\n",
              "      <td>apply</td>\n",
              "    </tr>\n",
              "    <tr>\n",
              "      <th>are</th>\n",
              "      <td>are</td>\n",
              "      <td>be</td>\n",
              "    </tr>\n",
              "    <tr>\n",
              "      <th>horses</th>\n",
              "      <td>hors</td>\n",
              "      <td>horse</td>\n",
              "    </tr>\n",
              "    <tr>\n",
              "      <th>achieving</th>\n",
              "      <td>achiev</td>\n",
              "      <td>achieve</td>\n",
              "    </tr>\n",
              "    <tr>\n",
              "      <th>submerged</th>\n",
              "      <td>submerg</td>\n",
              "      <td>submerge</td>\n",
              "    </tr>\n",
              "  </tbody>\n",
              "</table>\n",
              "<p>1309 rows × 2 columns</p>\n",
              "</div>\n",
              "      <button class=\"colab-df-convert\" onclick=\"convertToInteractive('df-73de5f88-f137-445a-8d91-734162ec3a14')\"\n",
              "              title=\"Convert this dataframe to an interactive table.\"\n",
              "              style=\"display:none;\">\n",
              "        \n",
              "  <svg xmlns=\"http://www.w3.org/2000/svg\" height=\"24px\"viewBox=\"0 0 24 24\"\n",
              "       width=\"24px\">\n",
              "    <path d=\"M0 0h24v24H0V0z\" fill=\"none\"/>\n",
              "    <path d=\"M18.56 5.44l.94 2.06.94-2.06 2.06-.94-2.06-.94-.94-2.06-.94 2.06-2.06.94zm-11 1L8.5 8.5l.94-2.06 2.06-.94-2.06-.94L8.5 2.5l-.94 2.06-2.06.94zm10 10l.94 2.06.94-2.06 2.06-.94-2.06-.94-.94-2.06-.94 2.06-2.06.94z\"/><path d=\"M17.41 7.96l-1.37-1.37c-.4-.4-.92-.59-1.43-.59-.52 0-1.04.2-1.43.59L10.3 9.45l-7.72 7.72c-.78.78-.78 2.05 0 2.83L4 21.41c.39.39.9.59 1.41.59.51 0 1.02-.2 1.41-.59l7.78-7.78 2.81-2.81c.8-.78.8-2.07 0-2.86zM5.41 20L4 18.59l7.72-7.72 1.47 1.35L5.41 20z\"/>\n",
              "  </svg>\n",
              "      </button>\n",
              "      \n",
              "  <style>\n",
              "    .colab-df-container {\n",
              "      display:flex;\n",
              "      flex-wrap:wrap;\n",
              "      gap: 12px;\n",
              "    }\n",
              "\n",
              "    .colab-df-convert {\n",
              "      background-color: #E8F0FE;\n",
              "      border: none;\n",
              "      border-radius: 50%;\n",
              "      cursor: pointer;\n",
              "      display: none;\n",
              "      fill: #1967D2;\n",
              "      height: 32px;\n",
              "      padding: 0 0 0 0;\n",
              "      width: 32px;\n",
              "    }\n",
              "\n",
              "    .colab-df-convert:hover {\n",
              "      background-color: #E2EBFA;\n",
              "      box-shadow: 0px 1px 2px rgba(60, 64, 67, 0.3), 0px 1px 3px 1px rgba(60, 64, 67, 0.15);\n",
              "      fill: #174EA6;\n",
              "    }\n",
              "\n",
              "    [theme=dark] .colab-df-convert {\n",
              "      background-color: #3B4455;\n",
              "      fill: #D2E3FC;\n",
              "    }\n",
              "\n",
              "    [theme=dark] .colab-df-convert:hover {\n",
              "      background-color: #434B5C;\n",
              "      box-shadow: 0px 1px 3px 1px rgba(0, 0, 0, 0.15);\n",
              "      filter: drop-shadow(0px 1px 2px rgba(0, 0, 0, 0.3));\n",
              "      fill: #FFFFFF;\n",
              "    }\n",
              "  </style>\n",
              "\n",
              "      <script>\n",
              "        const buttonEl =\n",
              "          document.querySelector('#df-73de5f88-f137-445a-8d91-734162ec3a14 button.colab-df-convert');\n",
              "        buttonEl.style.display =\n",
              "          google.colab.kernel.accessAllowed ? 'block' : 'none';\n",
              "\n",
              "        async function convertToInteractive(key) {\n",
              "          const element = document.querySelector('#df-73de5f88-f137-445a-8d91-734162ec3a14');\n",
              "          const dataTable =\n",
              "            await google.colab.kernel.invokeFunction('convertToInteractive',\n",
              "                                                     [key], {});\n",
              "          if (!dataTable) return;\n",
              "\n",
              "          const docLinkHtml = 'Like what you see? Visit the ' +\n",
              "            '<a target=\"_blank\" href=https://colab.research.google.com/notebooks/data_table.ipynb>data table notebook</a>'\n",
              "            + ' to learn more about interactive tables.';\n",
              "          element.innerHTML = '';\n",
              "          dataTable['output_type'] = 'display_data';\n",
              "          await google.colab.output.renderOutput(dataTable, element);\n",
              "          const docLink = document.createElement('div');\n",
              "          docLink.innerHTML = docLinkHtml;\n",
              "          element.appendChild(docLink);\n",
              "        }\n",
              "      </script>\n",
              "    </div>\n",
              "  </div>\n",
              "  "
            ]
          },
          "metadata": {},
          "execution_count": 13
        }
      ],
      "source": [
        "from nltk.stem import WordNetLemmatizer, SnowballStemmer\n",
        "\n",
        "lemmatizer = WordNetLemmatizer()\n",
        "stemmer = SnowballStemmer('english')\n",
        "\n",
        "words_df = pd.DataFrame(words_set, columns=['word'])\n",
        "words_df['stemmed_word'] = words_df['word'].apply(stemmer.stem)\n",
        "words_df['normalized_word'] = words_df['word'].apply(lambda x: lemmatizer.lemmatize(x, pos='v'))\n",
        "\n",
        "filtered_df = words_df[(words_df['word'] != words_df['normalized_word']) & (words_df['stemmed_word'] != words_df['normalized_word'])]\n",
        "\n",
        "filtered_df = filtered_df.set_index('word')\n",
        "\n",
        "filtered_df"
      ]
    },
    {
      "cell_type": "markdown",
      "metadata": {
        "id": "kbfGf3m5CF7Y"
      },
      "source": [
        "2.2. Удалите стоп-слова из описаний рецептов. Какую долю об общего количества слов составляли стоп-слова? Сравните топ-10 самых часто употребляемых слов до и после удаления стоп-слов."
      ]
    },
    {
      "cell_type": "code",
      "execution_count": 15,
      "metadata": {
        "colab": {
          "base_uri": "https://localhost:8080/"
        },
        "id": "a_sU4qSECF7Z",
        "outputId": "6d50c535-4e37-4603-f4ee-aa8932b30511"
      },
      "outputs": [
        {
          "output_type": "stream",
          "name": "stdout",
          "text": [
            "Всего слов: 32868\n",
            "С удалением стоп-слов: 32732\n",
            "Доля стоп-слов: 99.59%\n"
          ]
        },
        {
          "output_type": "stream",
          "name": "stderr",
          "text": [
            "[nltk_data] Downloading package stopwords to /root/nltk_data...\n",
            "[nltk_data]   Package stopwords is already up-to-date!\n"
          ]
        }
      ],
      "source": [
        "import nltk\n",
        "nltk.download('stopwords')\n",
        "\n",
        "import nltk\n",
        "from nltk.corpus import stopwords\n",
        "stopwords_set = set(stopwords.words('english'))\n",
        "\n",
        "words_filtered = [item for item in words_list if item not in stopwords_set]\n",
        "diff = round(len(words_filtered)/len(words_list)*100,2)\n",
        "print(f\"Всего слов: {len(words_list)}\\nС удалением стоп-слов: {len(words_filtered)}\\nДоля стоп-слов: {diff}%\")"
      ]
    },
    {
      "cell_type": "code",
      "execution_count": null,
      "metadata": {
        "id": "qyukxgjHCF7a",
        "outputId": "daf40ea9-f207-430b-f77d-e0e85b52cf73"
      },
      "outputs": [
        {
          "name": "stdout",
          "output_type": "stream",
          "text": [
            "40072 -> the\n",
            "34951 -> a\n",
            "30245 -> and\n",
            "26859 -> this\n",
            "24836 -> i\n",
            "23471 -> to\n",
            "20285 -> is\n",
            "19756 -> it\n",
            "18364 -> of\n",
            "15939 -> for\n"
          ]
        }
      ],
      "source": [
        "#до_удаления\n",
        "freq = nltk.FreqDist(words_list)\n",
        "for word, number in freq.most_common(10):\n",
        "    print(f\"{number} -> {word}\")"
      ]
    },
    {
      "cell_type": "code",
      "execution_count": 16,
      "metadata": {
        "colab": {
          "base_uri": "https://localhost:8080/"
        },
        "id": "fV48Abv7CF7b",
        "outputId": "52ea8955-c3e7-4969-df14-3b660a3b1b9b"
      },
      "outputs": [
        {
          "output_type": "stream",
          "name": "stdout",
          "text": [
            "1 -> sonia\n",
            "1 -> billed\n",
            "1 -> zmail\n",
            "1 -> grated\n",
            "1 -> didthis\n",
            "1 -> maypo\n",
            "1 -> unthaw\n",
            "1 -> peassaffron\n",
            "1 -> mello\n",
            "1 -> chopping\n"
          ]
        }
      ],
      "source": [
        "#после_удаления\n",
        "freq = nltk.FreqDist(words_filtered)\n",
        "for word, number in freq.most_common(10):\n",
        "    print(f\"{number} -> {word}\")"
      ]
    },
    {
      "cell_type": "markdown",
      "metadata": {
        "id": "W59YBgtsCF7b"
      },
      "source": [
        "### Векторное представление текста"
      ]
    },
    {
      "cell_type": "markdown",
      "metadata": {
        "id": "b5Lc8DRRCF7b"
      },
      "source": [
        "3.1 Выберите случайным образом 5 рецептов из набора данных. Представьте описание каждого рецепта в виде числового вектора при помощи `TfidfVectorizer`"
      ]
    },
    {
      "cell_type": "code",
      "execution_count": 23,
      "metadata": {
        "colab": {
          "base_uri": "https://localhost:8080/"
        },
        "id": "HOp-d61NCF7b",
        "outputId": "b0b5297d-08b5-4936-a15c-d50185b8f712"
      },
      "outputs": [
        {
          "output_type": "stream",
          "name": "stdout",
          "text": [
            "Рецепт 444:\n",
            "this combination of dusky dates and tinted marzipan is a north african tradition worthy of a special occasion from cooking lightmay 2001\n",
            "Вектор:\n",
            "[[0.21320072 0.21320072 0.21320072 0.21320072 0.21320072 0.21320072\n",
            "  0.21320072 0.21320072 0.21320072 0.21320072 0.21320072 0.21320072\n",
            "  0.21320072 0.42640143 0.21320072 0.21320072 0.21320072 0.21320072\n",
            "  0.21320072]]\n",
            "\n",
            "Рецепт 13425:\n",
            "this is an adaptation of sour cream banana bread which i posted then found out it was a duplicate the difference is you use yogurt instead of sour cream you may use plain or be adventurous and try vanilla lemon or your choice of flavors or go ahead and use sour cream if you wish i even used part mayonnaise once in a pinch for the nuts use whatever nuts you wish so here is the recipei hope you enjoy i used to make this for the colonial pines inn in highlands nc it was always well received and the customers could buy a loaf to take home which they frequently did\n",
            "Вектор:\n",
            "[[0.06835859 0.06835859 0.06835859 0.06835859 0.06835859 0.20507578\n",
            "  0.06835859 0.06835859 0.06835859 0.06835859 0.06835859 0.06835859\n",
            "  0.06835859 0.20507578 0.06835859 0.06835859 0.06835859 0.06835859\n",
            "  0.06835859 0.06835859 0.06835859 0.13671719 0.06835859 0.06835859\n",
            "  0.06835859 0.06835859 0.06835859 0.06835859 0.06835859 0.06835859\n",
            "  0.13671719 0.06835859 0.06835859 0.20507578 0.13671719 0.06835859\n",
            "  0.06835859 0.06835859 0.06835859 0.06835859 0.06835859 0.13671719\n",
            "  0.20507578 0.06835859 0.20507578 0.06835859 0.06835859 0.06835859\n",
            "  0.06835859 0.06835859 0.06835859 0.06835859 0.06835859 0.06835859\n",
            "  0.20507578 0.06835859 0.34179296 0.06835859 0.06835859 0.13671719\n",
            "  0.13671719 0.06835859 0.27343437 0.13671719 0.06835859 0.13671719\n",
            "  0.06835859 0.06835859 0.13671719 0.13671719 0.06835859 0.34179296\n",
            "  0.06835859]]\n",
            "\n",
            "Рецепт 8430:\n",
            "this tasty vinaigrette comes from the cookin cajun cooking school in new orleans  we love it especially made with steens louisiana cane vinegar  serve it over salad greens chopped purple cabbage and chopped golden peppers for a mardi gras salad\n",
            "Вектор:\n",
            "[[0.1490712 0.1490712 0.1490712 0.1490712 0.2981424 0.1490712 0.1490712\n",
            "  0.1490712 0.1490712 0.1490712 0.1490712 0.1490712 0.1490712 0.1490712\n",
            "  0.1490712 0.2981424 0.1490712 0.1490712 0.1490712 0.1490712 0.1490712\n",
            "  0.1490712 0.1490712 0.1490712 0.1490712 0.2981424 0.1490712 0.1490712\n",
            "  0.1490712 0.1490712 0.1490712 0.1490712 0.1490712 0.1490712 0.1490712\n",
            "  0.1490712]]\n",
            "\n",
            "Рецепт 15658:\n",
            "from the new laurels kitchen cookbookthe 1986 edition laurel points out that if you wish to use honey in this recipe depending on which type you use it may not work as the honey will make the pudding runny ive learned that the hard way furthermore i have substituted rice milk and soy milk in this pudding recipe plans are to try this recipe sometime in the near future using agave nectar instead of brown sugar stay tuned laurel also offers a version with egg which is the version i use and have always used the egg is optional although the pudding will not be as rich tasting your call\n",
            "Вектор:\n",
            "[[0.06696495 0.06696495 0.06696495 0.06696495 0.06696495 0.13392991\n",
            "  0.06696495 0.13392991 0.06696495 0.06696495 0.06696495 0.06696495\n",
            "  0.06696495 0.06696495 0.13392991 0.06696495 0.06696495 0.06696495\n",
            "  0.06696495 0.13392991 0.13392991 0.06696495 0.20089486 0.06696495\n",
            "  0.13392991 0.06696495 0.06696495 0.06696495 0.13392991 0.06696495\n",
            "  0.06696495 0.06696495 0.06696495 0.13392991 0.06696495 0.06696495\n",
            "  0.06696495 0.13392991 0.06696495 0.06696495 0.06696495 0.06696495\n",
            "  0.06696495 0.06696495 0.06696495 0.20089486 0.20089486 0.06696495\n",
            "  0.06696495 0.06696495 0.06696495 0.06696495 0.06696495 0.06696495\n",
            "  0.06696495 0.06696495 0.13392991 0.53571962 0.20089486 0.13392991\n",
            "  0.06696495 0.06696495 0.06696495 0.20089486 0.06696495 0.06696495\n",
            "  0.13392991 0.06696495 0.13392991 0.13392991 0.06696495 0.06696495\n",
            "  0.06696495 0.13392991 0.06696495]]\n",
            "\n",
            "Рецепт 146:\n",
            "yet another smoothiemilkshake experiment gone well yea i love cottage cheese you can tell\n",
            "Вектор:\n",
            "[[0.2773501 0.2773501 0.2773501 0.2773501 0.2773501 0.2773501 0.2773501\n",
            "  0.2773501 0.2773501 0.2773501 0.2773501 0.2773501 0.2773501]]\n",
            "\n"
          ]
        }
      ],
      "source": [
        "from sklearn.feature_extraction.text import TfidfVectorizer\n",
        "\n",
        "# загрузка данных из файла\n",
        "data = pd.read_csv('preprocessed_descriptions.csv')\n",
        "data['preprocessed_descriptions']=data['preprocessed_descriptions'].apply(str)\n",
        "# выбор 5 случайных рецептов\n",
        "random_recipes = data.sample(5)\n",
        "\n",
        "# создание объекта TfidfVectorizer\n",
        "vectorizer = TfidfVectorizer()\n",
        "\n",
        "# преобразование описания каждого рецепта в числовой вектор\n",
        "for i, row in random_recipes.iterrows():\n",
        "    description = row['preprocessed_descriptions']\n",
        "    vector = vectorizer.fit_transform([description])\n",
        "    print(f\"Рецепт {i+1}:\\n{description}\\nВектор:\\n{vector.toarray()}\\n\")"
      ]
    },
    {
      "cell_type": "markdown",
      "metadata": {
        "id": "xcfwZdIoCF7v"
      },
      "source": [
        "3.2 Вычислите близость между каждой парой рецептов, выбранных в задании 3.1, используя косинусное расстояние (`scipy.spatial.distance.cosine`) Результаты оформите в виде таблицы `pd.DataFrame`. В качестве названий строк и столбцов используйте названия рецептов."
      ]
    },
    {
      "cell_type": "code",
      "execution_count": 24,
      "metadata": {
        "colab": {
          "base_uri": "https://localhost:8080/",
          "height": 212
        },
        "id": "dlqtvwXNCF7v",
        "outputId": "0135fe29-5503-4772-ed94-6e0054d77704"
      },
      "outputs": [
        {
          "output_type": "execute_result",
          "data": {
            "text/plain": [
              "Recipes     443       13424     8429      15657     145  \n",
              "Recipes                                                  \n",
              "443      0.000000  0.974232  0.979179  0.983515  1.000000\n",
              "13424    0.974232  0.000000  0.973174  0.808762  0.966270\n",
              "8429     0.979179  0.973174  0.000000  0.962892  0.984047\n",
              "15657    0.983515  0.808762  0.962892  0.000000  0.991802\n",
              "145      1.000000  0.966270  0.984047  0.991802  0.000000"
            ],
            "text/html": [
              "\n",
              "  <div id=\"df-f6a3da4d-b8a5-45dd-86a7-8f25885a9487\">\n",
              "    <div class=\"colab-df-container\">\n",
              "      <div>\n",
              "<style scoped>\n",
              "    .dataframe tbody tr th:only-of-type {\n",
              "        vertical-align: middle;\n",
              "    }\n",
              "\n",
              "    .dataframe tbody tr th {\n",
              "        vertical-align: top;\n",
              "    }\n",
              "\n",
              "    .dataframe thead th {\n",
              "        text-align: right;\n",
              "    }\n",
              "</style>\n",
              "<table border=\"1\" class=\"dataframe\">\n",
              "  <thead>\n",
              "    <tr style=\"text-align: right;\">\n",
              "      <th>Recipes</th>\n",
              "      <th>443</th>\n",
              "      <th>13424</th>\n",
              "      <th>8429</th>\n",
              "      <th>15657</th>\n",
              "      <th>145</th>\n",
              "    </tr>\n",
              "    <tr>\n",
              "      <th>Recipes</th>\n",
              "      <th></th>\n",
              "      <th></th>\n",
              "      <th></th>\n",
              "      <th></th>\n",
              "      <th></th>\n",
              "    </tr>\n",
              "  </thead>\n",
              "  <tbody>\n",
              "    <tr>\n",
              "      <th>443</th>\n",
              "      <td>0.000000</td>\n",
              "      <td>0.974232</td>\n",
              "      <td>0.979179</td>\n",
              "      <td>0.983515</td>\n",
              "      <td>1.000000</td>\n",
              "    </tr>\n",
              "    <tr>\n",
              "      <th>13424</th>\n",
              "      <td>0.974232</td>\n",
              "      <td>0.000000</td>\n",
              "      <td>0.973174</td>\n",
              "      <td>0.808762</td>\n",
              "      <td>0.966270</td>\n",
              "    </tr>\n",
              "    <tr>\n",
              "      <th>8429</th>\n",
              "      <td>0.979179</td>\n",
              "      <td>0.973174</td>\n",
              "      <td>0.000000</td>\n",
              "      <td>0.962892</td>\n",
              "      <td>0.984047</td>\n",
              "    </tr>\n",
              "    <tr>\n",
              "      <th>15657</th>\n",
              "      <td>0.983515</td>\n",
              "      <td>0.808762</td>\n",
              "      <td>0.962892</td>\n",
              "      <td>0.000000</td>\n",
              "      <td>0.991802</td>\n",
              "    </tr>\n",
              "    <tr>\n",
              "      <th>145</th>\n",
              "      <td>1.000000</td>\n",
              "      <td>0.966270</td>\n",
              "      <td>0.984047</td>\n",
              "      <td>0.991802</td>\n",
              "      <td>0.000000</td>\n",
              "    </tr>\n",
              "  </tbody>\n",
              "</table>\n",
              "</div>\n",
              "      <button class=\"colab-df-convert\" onclick=\"convertToInteractive('df-f6a3da4d-b8a5-45dd-86a7-8f25885a9487')\"\n",
              "              title=\"Convert this dataframe to an interactive table.\"\n",
              "              style=\"display:none;\">\n",
              "        \n",
              "  <svg xmlns=\"http://www.w3.org/2000/svg\" height=\"24px\"viewBox=\"0 0 24 24\"\n",
              "       width=\"24px\">\n",
              "    <path d=\"M0 0h24v24H0V0z\" fill=\"none\"/>\n",
              "    <path d=\"M18.56 5.44l.94 2.06.94-2.06 2.06-.94-2.06-.94-.94-2.06-.94 2.06-2.06.94zm-11 1L8.5 8.5l.94-2.06 2.06-.94-2.06-.94L8.5 2.5l-.94 2.06-2.06.94zm10 10l.94 2.06.94-2.06 2.06-.94-2.06-.94-.94-2.06-.94 2.06-2.06.94z\"/><path d=\"M17.41 7.96l-1.37-1.37c-.4-.4-.92-.59-1.43-.59-.52 0-1.04.2-1.43.59L10.3 9.45l-7.72 7.72c-.78.78-.78 2.05 0 2.83L4 21.41c.39.39.9.59 1.41.59.51 0 1.02-.2 1.41-.59l7.78-7.78 2.81-2.81c.8-.78.8-2.07 0-2.86zM5.41 20L4 18.59l7.72-7.72 1.47 1.35L5.41 20z\"/>\n",
              "  </svg>\n",
              "      </button>\n",
              "      \n",
              "  <style>\n",
              "    .colab-df-container {\n",
              "      display:flex;\n",
              "      flex-wrap:wrap;\n",
              "      gap: 12px;\n",
              "    }\n",
              "\n",
              "    .colab-df-convert {\n",
              "      background-color: #E8F0FE;\n",
              "      border: none;\n",
              "      border-radius: 50%;\n",
              "      cursor: pointer;\n",
              "      display: none;\n",
              "      fill: #1967D2;\n",
              "      height: 32px;\n",
              "      padding: 0 0 0 0;\n",
              "      width: 32px;\n",
              "    }\n",
              "\n",
              "    .colab-df-convert:hover {\n",
              "      background-color: #E2EBFA;\n",
              "      box-shadow: 0px 1px 2px rgba(60, 64, 67, 0.3), 0px 1px 3px 1px rgba(60, 64, 67, 0.15);\n",
              "      fill: #174EA6;\n",
              "    }\n",
              "\n",
              "    [theme=dark] .colab-df-convert {\n",
              "      background-color: #3B4455;\n",
              "      fill: #D2E3FC;\n",
              "    }\n",
              "\n",
              "    [theme=dark] .colab-df-convert:hover {\n",
              "      background-color: #434B5C;\n",
              "      box-shadow: 0px 1px 3px 1px rgba(0, 0, 0, 0.15);\n",
              "      filter: drop-shadow(0px 1px 2px rgba(0, 0, 0, 0.3));\n",
              "      fill: #FFFFFF;\n",
              "    }\n",
              "  </style>\n",
              "\n",
              "      <script>\n",
              "        const buttonEl =\n",
              "          document.querySelector('#df-f6a3da4d-b8a5-45dd-86a7-8f25885a9487 button.colab-df-convert');\n",
              "        buttonEl.style.display =\n",
              "          google.colab.kernel.accessAllowed ? 'block' : 'none';\n",
              "\n",
              "        async function convertToInteractive(key) {\n",
              "          const element = document.querySelector('#df-f6a3da4d-b8a5-45dd-86a7-8f25885a9487');\n",
              "          const dataTable =\n",
              "            await google.colab.kernel.invokeFunction('convertToInteractive',\n",
              "                                                     [key], {});\n",
              "          if (!dataTable) return;\n",
              "\n",
              "          const docLinkHtml = 'Like what you see? Visit the ' +\n",
              "            '<a target=\"_blank\" href=https://colab.research.google.com/notebooks/data_table.ipynb>data table notebook</a>'\n",
              "            + ' to learn more about interactive tables.';\n",
              "          element.innerHTML = '';\n",
              "          dataTable['output_type'] = 'display_data';\n",
              "          await google.colab.output.renderOutput(dataTable, element);\n",
              "          const docLink = document.createElement('div');\n",
              "          docLink.innerHTML = docLinkHtml;\n",
              "          element.appendChild(docLink);\n",
              "        }\n",
              "      </script>\n",
              "    </div>\n",
              "  </div>\n",
              "  "
            ]
          },
          "metadata": {},
          "execution_count": 24
        }
      ],
      "source": [
        "import scipy\n",
        "from sklearn.metrics.pairwise import cosine_distances\n",
        "\n",
        "X = vectorizer.fit_transform(data['preprocessed_descriptions'])\n",
        "\n",
        "matrix = X.toarray()\n",
        "\n",
        "distances = cosine_distances(matrix[random_recipes.index])\n",
        "\n",
        "result_df = pd.DataFrame(distances, index=random_recipes.index, columns=random_recipes.index)\n",
        "result_df.columns.name = 'Recipes'\n",
        "result_df.index.name = 'Recipes'\n",
        "result_df"
      ]
    },
    {
      "cell_type": "markdown",
      "metadata": {
        "id": "pM3Ws_NzCF7v"
      },
      "source": [
        "3.3 Какие рецепты являются наиболее похожими? Прокомментируйте результат (словами)."
      ]
    }
  ],
  "metadata": {
    "kernelspec": {
      "display_name": "Python 3 (ipykernel)",
      "language": "python",
      "name": "python3"
    },
    "language_info": {
      "codemirror_mode": {
        "name": "ipython",
        "version": 3
      },
      "file_extension": ".py",
      "mimetype": "text/x-python",
      "name": "python",
      "nbconvert_exporter": "python",
      "pygments_lexer": "ipython3",
      "version": "3.10.6"
    },
    "colab": {
      "provenance": []
    }
  },
  "nbformat": 4,
  "nbformat_minor": 0
}