{
  "cells": [
    {
      "cell_type": "markdown",
      "metadata": {
        "id": "lgqe7fqzDRyn"
      },
      "source": [
        "# Pandas"
      ]
    },
    {
      "cell_type": "markdown",
      "metadata": {
        "id": "dBnkYg2fDRyr"
      },
      "source": [
        "Материалы:\n",
        "* Макрушин С.В. \"Лекция 2: Библиотека Pandas\"\n",
        "* https://pandas.pydata.org/docs/user_guide/index.html#\n",
        "* https://pandas.pydata.org/docs/reference/index.html\n",
        "* Уэс Маккини. Python и анализ данных"
      ]
    },
    {
      "cell_type": "markdown",
      "metadata": {
        "id": "lI17YO9MDRys"
      },
      "source": [
        "## Задачи для совместного разбора"
      ]
    },
    {
      "cell_type": "markdown",
      "metadata": {
        "id": "RW2cJikJDRys"
      },
      "source": [
        "1. Загрузите данные из файла `sp500hst.txt` и обозначьте столбцы в соответствии с содержимым: `\"date\", \"ticker\", \"open\", \"high\", \"low\", \"close\", \"volume\"`."
      ]
    },
    {
      "cell_type": "code",
      "source": [
        "import numpy as np\n",
        "import pandas as pd\n",
        "\n",
        "data = pd.read_csv(\"sp500hst.txt\",delimiter = ',',\n",
        "                names = [\"date\", \"ticker\", \"open\", \"high\", \"low\", \"close\", \"volume\"])\n",
        "data"
      ],
      "metadata": {
        "colab": {
          "base_uri": "https://localhost:8080/",
          "height": 423
        },
        "id": "iO__s5BgDUkk",
        "outputId": "35ce2658-f5f4-498b-8a36-e6f257e11331"
      },
      "execution_count": 6,
      "outputs": [
        {
          "output_type": "execute_result",
          "data": {
            "text/plain": [
              "            date ticker   open     high     low  close  volume\n",
              "0       20090821      A  25.60  25.6100  25.220  25.55   34758\n",
              "1       20090824      A  25.64  25.7400  25.330  25.50   22247\n",
              "2       20090825      A  25.50  25.7000  25.225  25.34   30891\n",
              "3       20090826      A  25.32  25.6425  25.145  25.48   33334\n",
              "4       20090827      A  25.50  25.5700  25.230  25.54   70176\n",
              "...          ...    ...    ...      ...     ...    ...     ...\n",
              "122569  20100813    ZMH  51.72  51.9000  51.380  51.44   14561\n",
              "122570  20100816    ZMH  51.13  51.4700  50.600  51.00   13489\n",
              "122571  20100817    ZMH  51.14  51.6000  50.890  51.21   20498\n",
              "122572  20100819    ZMH  51.63  51.6300  50.170  50.22   18259\n",
              "122573  20100820    ZMH  50.03  50.5500  49.480  49.82   17792\n",
              "\n",
              "[122574 rows x 7 columns]"
            ],
            "text/html": [
              "\n",
              "  <div id=\"df-4888f2d0-f0d7-4b96-b07f-717a2f707f7c\">\n",
              "    <div class=\"colab-df-container\">\n",
              "      <div>\n",
              "<style scoped>\n",
              "    .dataframe tbody tr th:only-of-type {\n",
              "        vertical-align: middle;\n",
              "    }\n",
              "\n",
              "    .dataframe tbody tr th {\n",
              "        vertical-align: top;\n",
              "    }\n",
              "\n",
              "    .dataframe thead th {\n",
              "        text-align: right;\n",
              "    }\n",
              "</style>\n",
              "<table border=\"1\" class=\"dataframe\">\n",
              "  <thead>\n",
              "    <tr style=\"text-align: right;\">\n",
              "      <th></th>\n",
              "      <th>date</th>\n",
              "      <th>ticker</th>\n",
              "      <th>open</th>\n",
              "      <th>high</th>\n",
              "      <th>low</th>\n",
              "      <th>close</th>\n",
              "      <th>volume</th>\n",
              "    </tr>\n",
              "  </thead>\n",
              "  <tbody>\n",
              "    <tr>\n",
              "      <th>0</th>\n",
              "      <td>20090821</td>\n",
              "      <td>A</td>\n",
              "      <td>25.60</td>\n",
              "      <td>25.6100</td>\n",
              "      <td>25.220</td>\n",
              "      <td>25.55</td>\n",
              "      <td>34758</td>\n",
              "    </tr>\n",
              "    <tr>\n",
              "      <th>1</th>\n",
              "      <td>20090824</td>\n",
              "      <td>A</td>\n",
              "      <td>25.64</td>\n",
              "      <td>25.7400</td>\n",
              "      <td>25.330</td>\n",
              "      <td>25.50</td>\n",
              "      <td>22247</td>\n",
              "    </tr>\n",
              "    <tr>\n",
              "      <th>2</th>\n",
              "      <td>20090825</td>\n",
              "      <td>A</td>\n",
              "      <td>25.50</td>\n",
              "      <td>25.7000</td>\n",
              "      <td>25.225</td>\n",
              "      <td>25.34</td>\n",
              "      <td>30891</td>\n",
              "    </tr>\n",
              "    <tr>\n",
              "      <th>3</th>\n",
              "      <td>20090826</td>\n",
              "      <td>A</td>\n",
              "      <td>25.32</td>\n",
              "      <td>25.6425</td>\n",
              "      <td>25.145</td>\n",
              "      <td>25.48</td>\n",
              "      <td>33334</td>\n",
              "    </tr>\n",
              "    <tr>\n",
              "      <th>4</th>\n",
              "      <td>20090827</td>\n",
              "      <td>A</td>\n",
              "      <td>25.50</td>\n",
              "      <td>25.5700</td>\n",
              "      <td>25.230</td>\n",
              "      <td>25.54</td>\n",
              "      <td>70176</td>\n",
              "    </tr>\n",
              "    <tr>\n",
              "      <th>...</th>\n",
              "      <td>...</td>\n",
              "      <td>...</td>\n",
              "      <td>...</td>\n",
              "      <td>...</td>\n",
              "      <td>...</td>\n",
              "      <td>...</td>\n",
              "      <td>...</td>\n",
              "    </tr>\n",
              "    <tr>\n",
              "      <th>122569</th>\n",
              "      <td>20100813</td>\n",
              "      <td>ZMH</td>\n",
              "      <td>51.72</td>\n",
              "      <td>51.9000</td>\n",
              "      <td>51.380</td>\n",
              "      <td>51.44</td>\n",
              "      <td>14561</td>\n",
              "    </tr>\n",
              "    <tr>\n",
              "      <th>122570</th>\n",
              "      <td>20100816</td>\n",
              "      <td>ZMH</td>\n",
              "      <td>51.13</td>\n",
              "      <td>51.4700</td>\n",
              "      <td>50.600</td>\n",
              "      <td>51.00</td>\n",
              "      <td>13489</td>\n",
              "    </tr>\n",
              "    <tr>\n",
              "      <th>122571</th>\n",
              "      <td>20100817</td>\n",
              "      <td>ZMH</td>\n",
              "      <td>51.14</td>\n",
              "      <td>51.6000</td>\n",
              "      <td>50.890</td>\n",
              "      <td>51.21</td>\n",
              "      <td>20498</td>\n",
              "    </tr>\n",
              "    <tr>\n",
              "      <th>122572</th>\n",
              "      <td>20100819</td>\n",
              "      <td>ZMH</td>\n",
              "      <td>51.63</td>\n",
              "      <td>51.6300</td>\n",
              "      <td>50.170</td>\n",
              "      <td>50.22</td>\n",
              "      <td>18259</td>\n",
              "    </tr>\n",
              "    <tr>\n",
              "      <th>122573</th>\n",
              "      <td>20100820</td>\n",
              "      <td>ZMH</td>\n",
              "      <td>50.03</td>\n",
              "      <td>50.5500</td>\n",
              "      <td>49.480</td>\n",
              "      <td>49.82</td>\n",
              "      <td>17792</td>\n",
              "    </tr>\n",
              "  </tbody>\n",
              "</table>\n",
              "<p>122574 rows × 7 columns</p>\n",
              "</div>\n",
              "      <button class=\"colab-df-convert\" onclick=\"convertToInteractive('df-4888f2d0-f0d7-4b96-b07f-717a2f707f7c')\"\n",
              "              title=\"Convert this dataframe to an interactive table.\"\n",
              "              style=\"display:none;\">\n",
              "        \n",
              "  <svg xmlns=\"http://www.w3.org/2000/svg\" height=\"24px\"viewBox=\"0 0 24 24\"\n",
              "       width=\"24px\">\n",
              "    <path d=\"M0 0h24v24H0V0z\" fill=\"none\"/>\n",
              "    <path d=\"M18.56 5.44l.94 2.06.94-2.06 2.06-.94-2.06-.94-.94-2.06-.94 2.06-2.06.94zm-11 1L8.5 8.5l.94-2.06 2.06-.94-2.06-.94L8.5 2.5l-.94 2.06-2.06.94zm10 10l.94 2.06.94-2.06 2.06-.94-2.06-.94-.94-2.06-.94 2.06-2.06.94z\"/><path d=\"M17.41 7.96l-1.37-1.37c-.4-.4-.92-.59-1.43-.59-.52 0-1.04.2-1.43.59L10.3 9.45l-7.72 7.72c-.78.78-.78 2.05 0 2.83L4 21.41c.39.39.9.59 1.41.59.51 0 1.02-.2 1.41-.59l7.78-7.78 2.81-2.81c.8-.78.8-2.07 0-2.86zM5.41 20L4 18.59l7.72-7.72 1.47 1.35L5.41 20z\"/>\n",
              "  </svg>\n",
              "      </button>\n",
              "      \n",
              "  <style>\n",
              "    .colab-df-container {\n",
              "      display:flex;\n",
              "      flex-wrap:wrap;\n",
              "      gap: 12px;\n",
              "    }\n",
              "\n",
              "    .colab-df-convert {\n",
              "      background-color: #E8F0FE;\n",
              "      border: none;\n",
              "      border-radius: 50%;\n",
              "      cursor: pointer;\n",
              "      display: none;\n",
              "      fill: #1967D2;\n",
              "      height: 32px;\n",
              "      padding: 0 0 0 0;\n",
              "      width: 32px;\n",
              "    }\n",
              "\n",
              "    .colab-df-convert:hover {\n",
              "      background-color: #E2EBFA;\n",
              "      box-shadow: 0px 1px 2px rgba(60, 64, 67, 0.3), 0px 1px 3px 1px rgba(60, 64, 67, 0.15);\n",
              "      fill: #174EA6;\n",
              "    }\n",
              "\n",
              "    [theme=dark] .colab-df-convert {\n",
              "      background-color: #3B4455;\n",
              "      fill: #D2E3FC;\n",
              "    }\n",
              "\n",
              "    [theme=dark] .colab-df-convert:hover {\n",
              "      background-color: #434B5C;\n",
              "      box-shadow: 0px 1px 3px 1px rgba(0, 0, 0, 0.15);\n",
              "      filter: drop-shadow(0px 1px 2px rgba(0, 0, 0, 0.3));\n",
              "      fill: #FFFFFF;\n",
              "    }\n",
              "  </style>\n",
              "\n",
              "      <script>\n",
              "        const buttonEl =\n",
              "          document.querySelector('#df-4888f2d0-f0d7-4b96-b07f-717a2f707f7c button.colab-df-convert');\n",
              "        buttonEl.style.display =\n",
              "          google.colab.kernel.accessAllowed ? 'block' : 'none';\n",
              "\n",
              "        async function convertToInteractive(key) {\n",
              "          const element = document.querySelector('#df-4888f2d0-f0d7-4b96-b07f-717a2f707f7c');\n",
              "          const dataTable =\n",
              "            await google.colab.kernel.invokeFunction('convertToInteractive',\n",
              "                                                     [key], {});\n",
              "          if (!dataTable) return;\n",
              "\n",
              "          const docLinkHtml = 'Like what you see? Visit the ' +\n",
              "            '<a target=\"_blank\" href=https://colab.research.google.com/notebooks/data_table.ipynb>data table notebook</a>'\n",
              "            + ' to learn more about interactive tables.';\n",
              "          element.innerHTML = '';\n",
              "          dataTable['output_type'] = 'display_data';\n",
              "          await google.colab.output.renderOutput(dataTable, element);\n",
              "          const docLink = document.createElement('div');\n",
              "          docLink.innerHTML = docLinkHtml;\n",
              "          element.appendChild(docLink);\n",
              "        }\n",
              "      </script>\n",
              "    </div>\n",
              "  </div>\n",
              "  "
            ]
          },
          "metadata": {},
          "execution_count": 6
        }
      ]
    },
    {
      "cell_type": "markdown",
      "metadata": {
        "id": "suyk1WdHDRyt"
      },
      "source": [
        "2. Рассчитайте среднее значение показателей для каждого из столбцов c номерами 3-6."
      ]
    },
    {
      "cell_type": "code",
      "source": [
        "sredneez = data[[\"open\",\"high\",\"low\",\"close\"]].mean()\n",
        "sredneez\n"
      ],
      "metadata": {
        "id": "bxzZUoLMDVQw"
      },
      "execution_count": null,
      "outputs": []
    },
    {
      "cell_type": "markdown",
      "metadata": {
        "id": "9_G6DEipDRyt"
      },
      "source": [
        "3. Добавьте столбец, содержащий только число месяца, к которому относится дата."
      ]
    },
    {
      "cell_type": "code",
      "source": [
        "data[\"month\"] = pd.to_datetime(d[\"date\"]).dt.month\n",
        "data"
      ],
      "metadata": {
        "id": "pRjPJTNHDV-6"
      },
      "execution_count": null,
      "outputs": []
    },
    {
      "cell_type": "markdown",
      "metadata": {
        "id": "37YfOBm7DRyt"
      },
      "source": [
        "4. Рассчитайте суммарный объем торгов для для одинаковых значений тикеров."
      ]
    },
    {
      "cell_type": "code",
      "source": [
        "torgi = data.groupby(\"ticker\")[\"volume\"].sum()\n",
        "torgi"
      ],
      "metadata": {
        "id": "jFm6lbxjDWoK"
      },
      "execution_count": null,
      "outputs": []
    },
    {
      "cell_type": "markdown",
      "metadata": {
        "id": "Z2mAxcNTDRyu"
      },
      "source": [
        "5. Загрузите данные из файла sp500hst.txt и обозначьте столбцы в соответствии с содержимым: \"date\", \"ticker\", \"open\", \"high\", \"low\", \"close\", \"volume\". Добавьте столбец с расшифровкой названия тикера, используя данные из файла `sp_data2.csv` . В случае нехватки данных об именах тикеров корректно обработать их."
      ]
    },
    {
      "cell_type": "markdown",
      "metadata": {
        "id": "sRw9WPjEDRyu"
      },
      "source": [
        "## Лабораторная работа №2"
      ]
    },
    {
      "cell_type": "markdown",
      "metadata": {
        "id": "q3vBZeFgDRyu"
      },
      "source": [
        "### Базовые операции с `DataFrame`"
      ]
    },
    {
      "cell_type": "markdown",
      "metadata": {
        "id": "gXku43M-DRyv"
      },
      "source": [
        "1.1 В файлах `recipes_sample.csv` и `reviews_sample.csv` находится информация об рецептах блюд и отзывах на эти рецепты соответственно. Загрузите данные из файлов в виде `pd.DataFrame` с названиями `recipes` и `reviews`. Обратите внимание на корректное считывание столбца с индексами в таблице `reviews` (безымянный столбец)."
      ]
    },
    {
      "cell_type": "code",
      "source": [
        "import pandas as pd\n",
        "\n",
        "# Загрузка данных\n",
        "recipes = pd.read_csv(\"recipes_sample.csv\")\n",
        "reviews = pd.read_csv(\"reviews_sample.csv\", index_col=0)\n",
        "\n",
        "# Вывод первых 5 строк для каждой таблицы\n",
        "print(\"Recipes:\")\n",
        "recipes\n",
        "\n",
        "print(\"\\nReviews:\")\n",
        "reviews\n",
        "\n"
      ],
      "metadata": {
        "id": "-bLuH2kvDYmG"
      },
      "execution_count": null,
      "outputs": []
    },
    {
      "cell_type": "markdown",
      "metadata": {
        "id": "wSbNncsRDRyv"
      },
      "source": [
        "1.2 Для каждой из таблиц выведите основные параметры:\n",
        "* количество точек данных (строк);\n",
        "* количество столбцов;\n",
        "* тип данных каждого столбца."
      ]
    },
    {
      "cell_type": "code",
      "source": [
        "t1_df = pd.read_csv(\"data_1.csv\") # чтение первой таблицы из файла data_1.csv\n",
        "t2_df = pd.read_csv(\"data_2.csv\", index_col=0) # чтение второй таблицы из файла data_2.csv с индексацией по первому столбцу\n",
        "t1_shape = t1_df.shape # получение размерности первой таблицы\n",
        "t2_shape = t2_df.shape # получение размерности второй таблицы\n",
        "t1_dtypes = t1_df.dtypes # получение типов данных первой таблицы\n",
        "t2_dtypes = t2_df.dtypes # получение типов данных второй таблицы\n",
        "print('Размер и типы данных первой таблицы:', t1_shape, t1_dtypes)\n",
        "print('Размер и типы данных второй таблицы:', t2_shape, t2_dtypes)\n"
      ],
      "metadata": {
        "id": "Npg7TviXDZTA"
      },
      "execution_count": null,
      "outputs": []
    },
    {
      "cell_type": "markdown",
      "metadata": {
        "id": "WXLH-WpADRyv"
      },
      "source": [
        "1.3 Исследуйте, в каких столбцах таблиц содержатся пропуски. Посчитайте долю строк, содержащих пропуски, в отношении к общему количеству строк."
      ]
    },
    {
      "cell_type": "code",
      "source": [
        "t1 = pd.read_csv(\"recipes_sample.csv\")\n",
        "\n",
        "print(\"Рецепты:\")\n",
        "print(t1.isnull().sum())\n",
        "\n",
        "print(\"\\nОтзывы:\")\n",
        "print(reviews.isnull().sum())\n",
        "\n",
        "print(\"\\nРецепты:\")\n",
        "print(t1.isnull().sum() / len(t1))\n",
        "\n",
        "print(\"\\nОтзывы:\")\n",
        "print(reviews.isnull().sum() / len(reviews))\n"
      ],
      "metadata": {
        "id": "E6fjoZsCDaVM"
      },
      "execution_count": null,
      "outputs": []
    },
    {
      "cell_type": "markdown",
      "metadata": {
        "id": "nVqBPV8fDRyv"
      },
      "source": [
        "1.4 Рассчитайте среднее значение для каждого из числовых столбцов (где это имеет смысл)."
      ]
    },
    {
      "cell_type": "code",
      "source": [
        "#Статистика для таблицы \"Рецепты\"\n",
        "print(\"рецепты:\")\n",
        "for col in recipes.select_dtypes(include=[float, int]):\n",
        "print(col, \":\", round(recipes[col].mean(), 2))\n",
        "\n",
        "#Статистика для таблицы \"Отзывы\"\n",
        "print(\"\\nотзывы:\")\n",
        "for col in reviews.select_dtypes(include=[float, int]):\n",
        "print(col,\":\", round(reviews[col].mean(), 2))"
      ],
      "metadata": {
        "id": "ljXxLADADbDF"
      },
      "execution_count": null,
      "outputs": []
    },
    {
      "cell_type": "markdown",
      "metadata": {
        "id": "GXtj8J5sDRyw"
      },
      "source": [
        "1.5 Создайте серию из 10 случайных названий рецептов."
      ]
    },
    {
      "cell_type": "code",
      "source": [
        "import random\n",
        "\n",
        "recipe_titles = recipes[\"name\"]\n",
        "random_recipes = pd.Series(random.sample(list(recipe_titles), 10))\n",
        "\n",
        "random_recipes\n"
      ],
      "metadata": {
        "id": "7kXnDRfUDb2A"
      },
      "execution_count": null,
      "outputs": []
    },
    {
      "cell_type": "markdown",
      "metadata": {
        "id": "Ainv6SyuDRyw"
      },
      "source": [
        "1.6 Измените индекс в таблице `reviews`, пронумеровав строки, начиная с нуля."
      ]
    },
    {
      "cell_type": "code",
      "source": [
        "reviews = reviews.reset_index(drop=True)\n",
        "reviews\n"
      ],
      "metadata": {
        "id": "QehVchhxDcnS"
      },
      "execution_count": null,
      "outputs": []
    },
    {
      "cell_type": "markdown",
      "metadata": {
        "id": "Y1Gb8WoSDRyw"
      },
      "source": [
        "1.7 Выведите информацию о рецептах, время выполнения которых не больше 20 минут и кол-во ингредиентов в которых не больше 5."
      ]
    },
    {
      "cell_type": "code",
      "source": [
        "fast_food = recipes[(recipes[\"minutes\"] <= 20) & (recipes[\"n_ingredients\"] <= 5)]\n",
        "fast_food"
      ],
      "metadata": {
        "id": "24DrBkacDdSh"
      },
      "execution_count": null,
      "outputs": []
    },
    {
      "cell_type": "markdown",
      "metadata": {
        "id": "fQO11JY4DRyw"
      },
      "source": [
        "### Работа с датами в `pandas`"
      ]
    },
    {
      "cell_type": "markdown",
      "metadata": {
        "id": "YboZ_XSrDRyw"
      },
      "source": [
        "2.1 Преобразуйте столбец `submitted` из таблицы `recipes` в формат времени. Модифицируйте решение задачи 1.1 так, чтобы считать столбец сразу в нужном формате."
      ]
    },
    {
      "cell_type": "code",
      "source": [
        "import pandas as pd\n",
        "df = pd.read_csv(\"recipes.csv\")\n",
        "df['submitted'] = pd.to_datetime(df['submitted'])\n",
        "print(df['submitted'].dtype)"
      ],
      "metadata": {
        "id": "n2D5Abp4DeVB"
      },
      "execution_count": null,
      "outputs": []
    },
    {
      "cell_type": "markdown",
      "metadata": {
        "id": "MS4XZTP6DRyw"
      },
      "source": [
        "2.2 Выведите информацию о рецептах, добавленных в датасет не позже 2010 года."
      ]
    },
    {
      "cell_type": "code",
      "source": [
        "recipes.loc[recipes['submitted'].dt.year <= 2010]\n"
      ],
      "metadata": {
        "id": "pQ9GZscjDfN-"
      },
      "execution_count": null,
      "outputs": []
    },
    {
      "cell_type": "markdown",
      "metadata": {
        "id": "hvD0OpX0DRyx"
      },
      "source": [
        "### Работа со строковыми данными в `pandas`"
      ]
    },
    {
      "cell_type": "markdown",
      "metadata": {
        "id": "5XNW5_XnDRyx"
      },
      "source": [
        "3.1  Добавьте в таблицу `recipes` столбец `description_length`, в котором хранится длина описания рецепта из столбца `description`."
      ]
    },
    {
      "cell_type": "code",
      "source": [
        "recipes['description'] = recipes['description'].astype(str)\n",
        "recipes['description_length'] = recipes['description'].str.len()\n",
        "print(recipes['description_length'])"
      ],
      "metadata": {
        "id": "YwaRB6KADgG_"
      },
      "execution_count": null,
      "outputs": []
    },
    {
      "cell_type": "markdown",
      "metadata": {
        "id": "2pEgzfLeDRyx"
      },
      "source": [
        "3.2 Измените название каждого рецепта в таблице `recipes` таким образом, чтобы каждое слово в названии начиналось с прописной буквы."
      ]
    },
    {
      "cell_type": "code",
      "source": [
        "recipes['name'] = recipes['name'].str.title()\n",
        "recipes['name']"
      ],
      "metadata": {
        "id": "4QGaEOUVDg0o"
      },
      "execution_count": null,
      "outputs": []
    },
    {
      "cell_type": "markdown",
      "metadata": {
        "id": "TKCGsJOxDRyx"
      },
      "source": [
        "3.3 Добавьте в таблицу `recipes` столбец `name_word_count`, в котором хранится количество слов из названии рецепта (считайте, что слова в названии разделяются только пробелами). Обратите внимание, что между словами может располагаться несколько пробелов подряд."
      ]
    },
    {
      "cell_type": "code",
      "source": [
        "recipes['name_word_count'] = recipes['name'].str.split().apply(len)\n",
        "print(recipes['name_word_count'])"
      ],
      "metadata": {
        "id": "V9llB3HyDhZq"
      },
      "execution_count": null,
      "outputs": []
    },
    {
      "cell_type": "markdown",
      "metadata": {
        "id": "g3W2JW5uDRyx"
      },
      "source": [
        "### Группировки таблиц `pd.DataFrame`"
      ]
    },
    {
      "cell_type": "markdown",
      "metadata": {
        "id": "aXCnTxagDRyx"
      },
      "source": [
        "4.1 Посчитайте количество рецептов, представленных каждым из участников (`contributor_id`). Какой участник добавил максимальное кол-во рецептов?"
      ]
    },
    {
      "cell_type": "code",
      "source": [
        "counts = recipes['contributor_id'].value_counts()\n",
        "print('Количество рецептов, представленных каждым из участников:\\n', recipe_counts)\n",
        "print('\\nМаксимальное кол-во рецептов добавил участник:', recipe_counts.idxmax())\n"
      ],
      "metadata": {
        "id": "pOOZy1XcDiNf"
      },
      "execution_count": null,
      "outputs": []
    },
    {
      "cell_type": "markdown",
      "metadata": {
        "id": "S6ehtFQFDRyx"
      },
      "source": [
        "4.2 Посчитайте средний рейтинг к каждому из рецептов. Для скольких рецептов отсутствуют отзывы? Обратите внимание, что отзыв с нулевым рейтингом или не заполненным текстовым описанием не считается отсутствующим."
      ]
    },
    {
      "cell_type": "code",
      "source": [
        "mean_rating = reviews.groupby('recipe_id')['rating'].mean()\n",
        "merged = recipes.merge(reviews[['recipe_id']],how='left',left_on='id',right_on='recipe_id')\n",
        "recipes_without_reviews = merged[merged['recipe_id'].isna()]['id']\n",
        "\n",
        "print('Средний рейтинг для каждого рецепта: \\n', mean_rating)\n",
        "print('\\nКоличество рецептов без отзывов: ', len(recipes_without_reviews))\n"
      ],
      "metadata": {
        "id": "LMOzVOXpDi7I"
      },
      "execution_count": null,
      "outputs": []
    },
    {
      "cell_type": "markdown",
      "metadata": {
        "id": "SBWQnWAGDRyy"
      },
      "source": [
        "4.3 Посчитайте количество рецептов с разбивкой по годам создания."
      ]
    },
    {
      "cell_type": "code",
      "source": [
        "recipes['year'] = pd.to_datetime(recipes['submitted'], format='%Y-%m-%d').dt.year\n",
        "years = recipes['name'].groupby(recipes['year']).count()\n",
        "\n",
        "print(years)\n"
      ],
      "metadata": {
        "id": "eb_pahIhDjqV"
      },
      "execution_count": null,
      "outputs": []
    },
    {
      "cell_type": "markdown",
      "metadata": {
        "id": "k0mU75pdDRyy"
      },
      "source": [
        "### Объединение таблиц `pd.DataFrame`"
      ]
    },
    {
      "cell_type": "markdown",
      "metadata": {
        "id": "wc9rbCStDRyy"
      },
      "source": [
        "5.1 При помощи объединения таблиц, создайте `DataFrame`, состоящий из четырех столбцов: `id`, `name`, `user_id`, `rating`. Рецепты, на которые не оставлен ни один отзыв, должны отсутствовать в полученной таблице. Подтвердите правильность работы вашего кода, выбрав рецепт, не имеющий отзывов, и попытавшись найти строку, соответствующую этому рецепту, в полученном `DataFrame`."
      ]
    },
    {
      "cell_type": "code",
      "source": [
        "merged_data = pd.merge(recipes[['recipe_id', 'recipe_name']], reviews[['recipe_id', 'user_id', 'recipe_rating']], left_on='recipe_id', right_on='recipe_id', how='inner')\n",
        "del merged_data[\"recipe_id\"]\n",
        "merged_data"
      ],
      "metadata": {
        "id": "HO5lEgMGDkgU"
      },
      "execution_count": null,
      "outputs": []
    },
    {
      "cell_type": "code",
      "source": [
        "print(merged_data.loc[merged_data['id'] == 9856])"
      ],
      "metadata": {
        "id": "lWl0zJYMErnN"
      },
      "execution_count": null,
      "outputs": []
    },
    {
      "cell_type": "markdown",
      "metadata": {
        "id": "OTJmgKD-DRyy"
      },
      "source": [
        "5.2 При помощи объединения таблиц и группировок, создайте `DataFrame`, состоящий из трех столбцов: `recipe_id`, `name`, `review_count`, где столбец `review_count` содержит кол-во отзывов, оставленных на рецепт `recipe_id`. У рецептов, на которые не оставлен ни один отзыв, в столбце `review_count` должен быть указан 0. Подтвердите правильность работы вашего кода, выбрав рецепт, не имеющий отзывов, и найдя строку, соответствующую этому рецепту, в полученном `DataFrame`."
      ]
    },
    {
      "cell_type": "code",
      "source": [
        "review_counts = reviews.groupby('recipe_id')['review'].count()\n",
        "merged_data_2 = recipes.merge(review_counts, how='left', left_on='id', right_index=True)\n",
        "merged_data_2['review_count'] = merged_data_2['review'].fillna(0).astype(int)\n",
        "\n",
        "merged_data_2 = merged_data_2[['id', 'name', 'review_count']]\n",
        "merged_data_2"
      ],
      "metadata": {
        "id": "rE757hnWDlIN"
      },
      "execution_count": null,
      "outputs": []
    },
    {
      "cell_type": "markdown",
      "metadata": {
        "id": "Bd-u2L9GDRyy"
      },
      "source": [
        "5.3. Выясните, рецепты, добавленные в каком году, имеют наименьший средний рейтинг?"
      ]
    },
    {
      "cell_type": "code",
      "source": [
        "data = pd.merge(reviews, recipes, left_index=True, right_on='id')\n",
        "data['year'] = pd.DatetimeIndex(data['date']).year\n",
        "mean_ratings = data.groupby(['year', 'recipe_id'])['rating'].mean()\n",
        "mean_ratings_year = mean_ratings.groupby('year').mean()\n",
        "min_rating = mean_ratings_year.idxmin()\n",
        "recipes_min = data[data['year'] == min_rating]['name'].unique()\n",
        "\n",
        "print(f\"Рецепты, добавленные в {min_rating} году, имеют наименьший средний рейтинг:\\n{recipes_min}\")\n"
      ],
      "metadata": {
        "id": "NEoN5cgbDl6o"
      },
      "execution_count": null,
      "outputs": []
    },
    {
      "cell_type": "markdown",
      "metadata": {
        "id": "Y4SUMaKCDRyy"
      },
      "source": [
        "### Сохранение таблиц `pd.DataFrame`"
      ]
    },
    {
      "cell_type": "markdown",
      "metadata": {
        "id": "h0nQdkfQDRyy"
      },
      "source": [
        "6.1 Отсортируйте таблицу в порядке убывания величины столбца `name_word_count` и сохраните результаты выполнения заданий 3.1-3.3 в csv файл. "
      ]
    },
    {
      "cell_type": "code",
      "source": [
        "sorted = recipes.sort_values(by='name_word_count', ascending=False)\n",
        "sorted"
      ],
      "metadata": {
        "id": "cEmH3Fu0DrcI"
      },
      "execution_count": null,
      "outputs": []
    },
    {
      "cell_type": "code",
      "source": [
        "# Сохраните результаты выполнения заданий 3.1-3.3\n",
        "sorted[['description_length', 'name', 'name_word_count']].to_csv('6.1.csv', index=False) \n"
      ],
      "metadata": {
        "id": "VsBsWAaCDohy"
      },
      "execution_count": null,
      "outputs": []
    },
    {
      "cell_type": "markdown",
      "metadata": {
        "id": "5i9VELlcDRyy"
      },
      "source": [
        "6.2 Воспользовавшись `pd.ExcelWriter`, cохраните результаты 5.1 и 5.2 в файл: на лист с названием `Рецепты с оценками` сохраните результаты выполнения 5.1; на лист с названием `Количество отзывов по рецептам` сохраните результаты выполнения 5.2."
      ]
    },
    {
      "cell_type": "code",
      "execution_count": null,
      "metadata": {
        "id": "S6b1hYC2DRyz"
      },
      "outputs": [],
      "source": [
        "with pd.ExcelWriter('6.2.xlsx') as writer:\n",
        "    merged_data.to_excel(writer, sheet_name='Рецепты с оценками', index=False)\n",
        "    merged_data_2.to_excel(writer, sheet_name='Количество отзывов по рецептам', index=False)"
      ]
    },
    {
      "cell_type": "markdown",
      "metadata": {
        "id": "72-bkK2SDRyz"
      },
      "source": [
        "#### [версия 2]\n",
        "* Уточнены формулировки задач 1.1, 3.3, 4.2, 5.1, 5.2, 5.3"
      ]
    }
  ],
  "metadata": {
    "kernelspec": {
      "display_name": "Python 3",
      "language": "python",
      "name": "python3"
    },
    "language_info": {
      "codemirror_mode": {
        "name": "ipython",
        "version": 3
      },
      "file_extension": ".py",
      "mimetype": "text/x-python",
      "name": "python",
      "nbconvert_exporter": "python",
      "pygments_lexer": "ipython3",
      "version": "3.7.4"
    },
    "colab": {
      "provenance": []
    }
  },
  "nbformat": 4,
  "nbformat_minor": 0
}