{
  "cells": [
    {
      "cell_type": "markdown",
      "metadata": {
        "id": "KhEMH5gJLAp9"
      },
      "source": [
        "## Оптимизация выполнения кода, векторизация, Numba"
      ]
    },
    {
      "cell_type": "markdown",
      "metadata": {
        "id": "JTg7ggyoLAqA"
      },
      "source": [
        "Материалы:\n",
        "* Макрушин С.В. Лекция 3: Оптимизация выполнения кода, векторизация, Numba\n",
        "* IPython Cookbook, Second Edition (2018), глава 4\n",
        "* https://numba.pydata.org/numba-doc/latest/user/5minguide.html"
      ]
    },
    {
      "cell_type": "markdown",
      "metadata": {
        "id": "-uaFxvqyLAqB"
      },
      "source": [
        "## Задачи для совместного разбора"
      ]
    },
    {
      "cell_type": "markdown",
      "metadata": {
        "id": "O9UFs9kSLAqC"
      },
      "source": [
        "1. Сгенерируйте массив `A` из `N=1млн` случайных целых чисел на отрезке от 0 до 1000. Пусть `B[i] = A[i] + 100`. Посчитайте среднее значение массива `B`."
      ]
    },
    {
      "cell_type": "markdown",
      "metadata": {
        "id": "wzRhDhZiLAqD"
      },
      "source": [
        "2. Создайте таблицу 2млн строк и с 4 столбцами, заполненными случайными числами. Добавьте столбец `key`, которые содержит элементы из множества английских букв. Выберите из таблицы подмножество строк, для которых в столбце `key` указаны первые 5 английских букв."
      ]
    },
    {
      "cell_type": "markdown",
      "metadata": {
        "id": "FNG9BNhfLAqE"
      },
      "source": [
        "## Лабораторная работа 3"
      ]
    },
    {
      "cell_type": "code",
      "execution_count": null,
      "metadata": {
        "colab": {
          "base_uri": "https://localhost:8080/"
        },
        "id": "Kn12q76-LAqF",
        "outputId": "708a7701-998c-4d10-8636-dfdc7d941ee4"
      },
      "outputs": [
        {
          "output_type": "stream",
          "name": "stdout",
          "text": [
            "Looking in indexes: https://pypi.org/simple, https://us-python.pkg.dev/colab-wheels/public/simple/\n",
            "Collecting line_profiler\n",
            "  Downloading line_profiler-4.0.3-cp310-cp310-manylinux_2_17_x86_64.manylinux2014_x86_64.whl (661 kB)\n",
            "\u001b[2K     \u001b[90m━━━━━━━━━━━━━━━━━━━━━━━━━━━━━━━━━━━━━━\u001b[0m \u001b[32m661.9/661.9 kB\u001b[0m \u001b[31m16.4 MB/s\u001b[0m eta \u001b[36m0:00:00\u001b[0m\n",
            "\u001b[?25hInstalling collected packages: line_profiler\n",
            "Successfully installed line_profiler-4.0.3\n"
          ]
        }
      ],
      "source": [
        "!pip install line_profiler"
      ]
    },
    {
      "cell_type": "markdown",
      "metadata": {
        "id": "ii7is-DzLAqG"
      },
      "source": [
        "1. В файлах `recipes_sample.csv` и `reviews_sample.csv` (__ЛР 2__) находится информация об рецептах блюд и отзывах на эти рецепты соответственно. Загрузите данные из файлов в виде `pd.DataFrame` с названиями `recipes` и `reviews`. Обратите внимание на корректное считывание столбца(ов) с индексами. Приведите столбцы к нужным типам.\n",
        "\n",
        "Реализуйте несколько вариантов функции подсчета среднего значения столбца `rating` из таблицы `reviews` для отзывов, оставленных в 2010 году.\n",
        "\n",
        "A. С использованием метода `DataFrame.iterrows` исходной таблицы;\n",
        "\n",
        "Б. С использованием метода `DataFrame.iterrows` таблицы, в которой сохранены только отзывы за 2010 год;\n",
        "\n",
        "В. С использованием метода `Series.mean`.\n",
        "\n",
        "Проверьте, что результаты работы всех написанных функций корректны и совпадают. Измерьте выполнения всех написанных функций.\n"
      ]
    },
    {
      "cell_type": "code",
      "source": [
        "import pandas as pd\n",
        "import time\n",
        "\n",
        "recipes = pd.read_csv(\"recipes_sample.csv\", sep=\",\", parse_dates=['submitted'])\n",
        "recipes = recipes.set_index('id')\n",
        "\n",
        "reviews = pd.read_csv(\"reviews_sample.csv\", sep=\",\",parse_dates=['date'])\n",
        "reviews.rename(columns={'Unnamed: 0': 'id'}, inplace=True)\n",
        "reviews = reviews.set_index('id')\n",
        "\n",
        "reviews['date'] = pd.to_datetime(reviews['date'])\n",
        "reviews['rating'] = reviews['rating'].astype(float)"
      ],
      "metadata": {
        "id": "8TgiONwULGT6"
      },
      "execution_count": 3,
      "outputs": []
    },
    {
      "cell_type": "code",
      "source": [
        "def rating_A(reviews):\n",
        "    start_time = time.time()\n",
        "    total = 0\n",
        "    count = 0\n",
        "    for index, row in reviews.iterrows():\n",
        "        if row['date'].year == 2010:\n",
        "            total += row['rating']\n",
        "            count += 1\n",
        "    full_time = time.time() - start_time\n",
        "    return \"Cр.знач:\",total/count,\"Время:\",full_time\n",
        "rating_A(reviews)\n"
      ],
      "metadata": {
        "colab": {
          "base_uri": "https://localhost:8080/"
        },
        "id": "MOaPjlu8gNoD",
        "outputId": "1724a498-0eff-4a47-b258-9d98071de8ae"
      },
      "execution_count": 4,
      "outputs": [
        {
          "output_type": "execute_result",
          "data": {
            "text/plain": [
              "('Cр.знач:', 4.4544402182900615, 'Время:', 6.088072299957275)"
            ]
          },
          "metadata": {},
          "execution_count": 4
        }
      ]
    },
    {
      "cell_type": "code",
      "source": [
        "def rating_B(reviews):\n",
        "    start_time = time.time()\n",
        "    reviews_2010 = reviews[reviews['date'].dt.year == 2010]\n",
        "    total = 0\n",
        "    count = 0\n",
        "    for index, row in reviews_2010.iterrows():\n",
        "        total += row['rating']\n",
        "        count += 1\n",
        "    full_time = time.time() - start_time\n",
        "    return \"Cр.знач:\",total/count,\"Время:\",full_time\n",
        "rating_B(reviews)"
      ],
      "metadata": {
        "colab": {
          "base_uri": "https://localhost:8080/"
        },
        "id": "V-jNDvI_hUSB",
        "outputId": "eae2dc56-be33-4533-8b1d-2e5eacf9b7a6"
      },
      "execution_count": 5,
      "outputs": [
        {
          "output_type": "execute_result",
          "data": {
            "text/plain": [
              "('Cр.знач:', 4.4544402182900615, 'Время:', 0.8286757469177246)"
            ]
          },
          "metadata": {},
          "execution_count": 5
        }
      ]
    },
    {
      "cell_type": "code",
      "source": [
        "def rating_C(reviews):\n",
        "    start_time = time.time()\n",
        "    reviews_2010 = reviews[reviews['date'].dt.year == 2010]\n",
        "    answer = reviews_2010['rating'].mean()\n",
        "    full_time = time.time() - start_time\n",
        "    return \"Cр.знач:\",answer,\"Время:\",full_time\n",
        "rating_C(reviews)"
      ],
      "metadata": {
        "colab": {
          "base_uri": "https://localhost:8080/"
        },
        "id": "Y0askKz1hbEY",
        "outputId": "75336abf-3e17-4705-dfa1-e2f81cced3e9"
      },
      "execution_count": 6,
      "outputs": [
        {
          "output_type": "execute_result",
          "data": {
            "text/plain": [
              "('Cр.знач:', 4.4544402182900615, 'Время:', 0.03578782081604004)"
            ]
          },
          "metadata": {},
          "execution_count": 6
        }
      ]
    },
    {
      "cell_type": "markdown",
      "metadata": {
        "id": "aPssEBEOLAqH"
      },
      "source": [
        "2. Какая из созданных функций выполняется медленнее? Что наиболее сильно влияет на скорость выполнения? Для ответа использовать профайлер `line_profiler`. Сохраните результаты работы профайлера в отдельную текстовую ячейку и прокомментируйте результаты его работы.\n",
        "\n",
        "(*). Сможете ли вы ускорить работу функции 1Б, отказавшись от использования метода `iterrows`, но не используя метод `mean`?"
      ]
    },
    {
      "cell_type": "code",
      "source": [
        "!pip install line_profiler\n",
        "%load_ext line_profiler\n",
        "import numpy as np"
      ],
      "metadata": {
        "id": "6y6zqfZVLHG3",
        "colab": {
          "base_uri": "https://localhost:8080/"
        },
        "outputId": "12e1bdf7-3c71-4ced-b08d-0d2cad3c8212"
      },
      "execution_count": 16,
      "outputs": [
        {
          "output_type": "stream",
          "name": "stdout",
          "text": [
            "Looking in indexes: https://pypi.org/simple, https://us-python.pkg.dev/colab-wheels/public/simple/\n",
            "Requirement already satisfied: line_profiler in /usr/local/lib/python3.10/dist-packages (4.0.3)\n",
            "The line_profiler extension is already loaded. To reload it, use:\n",
            "  %reload_ext line_profiler\n"
          ]
        }
      ]
    },
    {
      "cell_type": "code",
      "source": [
        "%lprun -f rating_A rating_A(reviews)"
      ],
      "metadata": {
        "id": "3lE46XJGSfGg"
      },
      "execution_count": 14,
      "outputs": []
    },
    {
      "cell_type": "code",
      "source": [
        "def rating_4():\n",
        "    start_time = time.time()\n",
        "    data = np.matrix((reviews[\"rating\"], reviews[\"date\"].dt.year), dtype=int)\n",
        "    mask = data[1,] == 2010\n",
        "    faster_values = np.where(mask, data, 0)\n",
        "    answer = faster_values[0,].sum() / mask.sum()\n",
        "    full_time = time.time() - start_time\n",
        "    return \"Cр.знач:\",answer,\"Время:\",full_time\n",
        "rating_4()"
      ],
      "metadata": {
        "colab": {
          "base_uri": "https://localhost:8080/"
        },
        "id": "qNXNbOcniF_S",
        "outputId": "1285ee78-5d96-470d-bc35-adf4173c3e62"
      },
      "execution_count": 17,
      "outputs": [
        {
          "output_type": "execute_result",
          "data": {
            "text/plain": [
              "('Cр.знач:', 4.4544402182900615, 'Время:', 0.026181459426879883)"
            ]
          },
          "metadata": {},
          "execution_count": 17
        }
      ]
    },
    {
      "cell_type": "markdown",
      "metadata": {
        "id": "e9n2JiyeLAqH"
      },
      "source": [
        "3. Вам предлагается воспользоваться функцией, которая собирает статистику о том, сколько отзывов содержат то или иное слово. Измерьте время выполнения этой функции. Сможете ли вы найти узкие места в коде, используя профайлер? Выпишите (словами), что в имеющемся коде реализовано неоптимально. Оптимизируйте функцию и добейтесь значительного (как минимум, на один порядок) прироста в скорости выполнения."
      ]
    },
    {
      "cell_type": "code",
      "execution_count": 10,
      "metadata": {
        "id": "Q6wzeuLZLAqI",
        "colab": {
          "base_uri": "https://localhost:8080/"
        },
        "outputId": "c29bd6df-0f6f-4cb9-9a06-49c36f9e75f0"
      },
      "outputs": [
        {
          "output_type": "stream",
          "name": "stdout",
          "text": [
            "Timer unit: 1e-09 s\n",
            "\n",
            "Total time: 0.0121661 s\n",
            "File: <ipython-input-10-d65c752fe88d>\n",
            "Function: get_word_reviews_count at line 4\n",
            "\n",
            "Line #      Hits         Time  Per Hit   % Time  Line Contents\n",
            "==============================================================\n",
            "     4                                           def get_word_reviews_count(df):\n",
            "     5         1       2806.0   2806.0      0.0      word_reviews = {}\n",
            "     6         3    7567110.0 2522370.0     62.2      for _, row in df.dropna(subset=['review']).iterrows():\n",
            "     7         3     166754.0  55584.7      1.4          recipe_id, review = row['recipe_id'], row['review']\n",
            "     8         3       7349.0   2449.7      0.1          words = review.split(' ')\n",
            "     9        10       6395.0    639.5      0.1          for word in words:\n",
            "    10        10       6301.0    630.1      0.1              if word not in word_reviews:\n",
            "    11        10       8226.0    822.6      0.1                  word_reviews[word] = []\n",
            "    12        10      11693.0   1169.3      0.1              word_reviews[word].append(recipe_id)\n",
            "    13                                               \n",
            "    14         1        351.0    351.0      0.0      word_reviews_count = {}\n",
            "    15         3    4286268.0 1428756.0     35.2      for _, row in df.dropna(subset=['review']).iterrows():\n",
            "    16         3      78018.0  26006.0      0.6          review = row['review']\n",
            "    17         3       5480.0   1826.7      0.0          words = review.split(' ')\n",
            "    18        10       5006.0    500.6      0.0          for word in words:\n",
            "    19        10      14019.0   1401.9      0.1              word_reviews_count[word] = len(word_reviews[word])\n",
            "    20         1        278.0    278.0      0.0      return word_reviews_count\n",
            "\n"
          ]
        }
      ],
      "source": [
        "from line_profiler import LineProfiler\n",
        "\n",
        "\n",
        "def get_word_reviews_count(df):\n",
        "    word_reviews = {}\n",
        "    for _, row in df.dropna(subset=['review']).iterrows():\n",
        "        recipe_id, review = row['recipe_id'], row['review']\n",
        "        words = review.split(' ')\n",
        "        for word in words:\n",
        "            if word not in word_reviews:\n",
        "                word_reviews[word] = []\n",
        "            word_reviews[word].append(recipe_id)\n",
        "    \n",
        "    word_reviews_count = {}\n",
        "    for _, row in df.dropna(subset=['review']).iterrows():\n",
        "        review = row['review']\n",
        "        words = review.split(' ')\n",
        "        for word in words:\n",
        "            word_reviews_count[word] = len(word_reviews[word])\n",
        "    return word_reviews_count\n",
        "\n",
        "data = {\n",
        "    'recipe_id': [1, 2, 3],\n",
        "    'review': ['This is a great recipe', 'I loved it', 'Awesome dish']\n",
        "}\n",
        "df = pd.DataFrame(data)\n",
        "\n",
        "profiler = LineProfiler()\n",
        "profiler.add_function(get_word_reviews_count)\n",
        "\n",
        "profiler.enable_by_count()\n",
        "word_reviews_count = get_word_reviews_count(df)\n",
        "profiler.disable_by_count()\n",
        "\n",
        "profiler.print_stats()"
      ]
    },
    {
      "cell_type": "code",
      "source": [
        "from collections import defaultdict\n",
        "\n",
        "def get_word_reviews_count(df):\n",
        "    word_reviews = defaultdict(list)\n",
        "    word_reviews_count = {}\n",
        "    \n",
        "    for _, row in df.dropna(subset=['review']).iterrows():\n",
        "        recipe_id, review = row['recipe_id'], row['review']\n",
        "        words = review.split(' ')\n",
        "        for word in set(words):\n",
        "            word_reviews[word].append(recipe_id)\n",
        "    \n",
        "    for word, reviews in word_reviews.items():\n",
        "        word_reviews_count[word] = len(reviews)\n",
        "    \n",
        "    return word_reviews_count\n",
        "\n",
        "\n",
        "data = {\n",
        "    'recipe_id': [1, 2, 3],\n",
        "    'review': ['This is a great recipe', 'I loved it', 'Awesome dish']\n",
        "}\n",
        "df = pd.DataFrame(data)\n",
        "\n",
        "profiler = LineProfiler()\n",
        "profiler.add_function(get_word_reviews_count)\n",
        "\n",
        "profiler.enable_by_count()\n",
        "word_reviews_count = get_word_reviews_count(df)\n",
        "profiler.disable_by_count()\n",
        "\n",
        "profiler.print_stats()"
      ],
      "metadata": {
        "colab": {
          "base_uri": "https://localhost:8080/"
        },
        "id": "ELjzOwtTYge1",
        "outputId": "2d057c8a-268a-449f-e4b0-629625c9a56c"
      },
      "execution_count": 11,
      "outputs": [
        {
          "output_type": "stream",
          "name": "stdout",
          "text": [
            "Timer unit: 1e-09 s\n",
            "\n",
            "Total time: 0.00897181 s\n",
            "File: <ipython-input-11-75545a191850>\n",
            "Function: get_word_reviews_count at line 4\n",
            "\n",
            "Line #      Hits         Time  Per Hit   % Time  Line Contents\n",
            "==============================================================\n",
            "     4                                           def get_word_reviews_count(df):\n",
            "     5         1       4008.0   4008.0      0.0      word_reviews = defaultdict(list)\n",
            "     6         1        363.0    363.0      0.0      word_reviews_count = {}\n",
            "     7                                               \n",
            "     8         3    8808024.0 2936008.0     98.2      for _, row in df.dropna(subset=['review']).iterrows():\n",
            "     9         3     112219.0  37406.3      1.3          recipe_id, review = row['recipe_id'], row['review']\n",
            "    10         3      12060.0   4020.0      0.1          words = review.split(' ')\n",
            "    11        10      10023.0   1002.3      0.1          for word in set(words):\n",
            "    12        10      12926.0   1292.6      0.1              word_reviews[word].append(recipe_id)\n",
            "    13                                               \n",
            "    14        10       5101.0    510.1      0.1      for word, reviews in word_reviews.items():\n",
            "    15        10       6820.0    682.0      0.1          word_reviews_count[word] = len(reviews)\n",
            "    16                                               \n",
            "    17         1        262.0    262.0      0.0      return word_reviews_count\n",
            "\n"
          ]
        }
      ]
    },
    {
      "cell_type": "markdown",
      "metadata": {
        "id": "CaZztN27LAqJ"
      },
      "source": [
        "4. Напишите несколько версий функции `MAPE` (см. [MAPE](https://en.wikipedia.org/wiki/Mean_absolute_percentage_error)) для расчета среднего абсолютного процентного отклонения значения рейтинга отзыва на рецепт от среднего значения рейтинга по всем отзывам для этого рецепта. \n",
        "    1. Без использования векторизованных операций и методов массивов `numpy` и без использования `numba`\n",
        "    2. Без использования векторизованных операций и методов массивов `numpy`, но с использованием `numba`\n",
        "    3. С использованием векторизованных операций и методов массивов `numpy`, но без использования `numba`\n",
        "    4. C использованием векторизованных операций и методов массивов `numpy` и `numba`\n",
        "    \n",
        "Измерьте время выполнения каждой из реализаций.\n",
        "\n",
        "Замечание: удалите из выборки отзывы с нулевым рейтингом.\n"
      ]
    },
    {
      "cell_type": "code",
      "source": [
        "import pandas as pd\n",
        "\n",
        "def MAPE(df: pd.DataFrame) -> float:\n",
        "    # Удаляем строки с нулевым рейтингом\n",
        "    df = df[df['rating'] != 0]\n",
        "    \n",
        "    # Группируем данные по рецепту\n",
        "    grouped_data = df.groupby('recipe_id')\n",
        "    \n",
        "    # Вычисляем средний рейтинг для каждого рецепта\n",
        "    mean_ratings = grouped_data['rating'].mean()\n",
        "    \n",
        "    # Вычисляем сумму абсолютных процентных отклонений для каждого рецепта\n",
        "    mape_sum = 0\n",
        "    for recipe_id, rating in mean_ratings.iteritems():\n",
        "        recipe_data = df[df['recipe_id'] == recipe_id]\n",
        "        actual_rating = recipe_data['rating'].values\n",
        "        mape_sum += abs(actual_rating - rating) / rating\n",
        "    \n",
        "    # Вычисляем среднее абсолютное процентное отклонение для всех рецептов\n",
        "    result = mape_sum.sum() / len(mean_ratings)\n",
        "    \n",
        "    return result"
      ],
      "metadata": {
        "id": "7xDN6nhRCZGH"
      },
      "execution_count": null,
      "outputs": []
    },
    {
      "cell_type": "code",
      "execution_count": null,
      "metadata": {
        "id": "0LQiUZD3LAqJ",
        "colab": {
          "base_uri": "https://localhost:8080/"
        },
        "outputId": "c7850bb1-dbf1-4571-f2de-49ce4dd3f14f"
      },
      "outputs": [
        {
          "output_type": "stream",
          "name": "stdout",
          "text": [
            "197.17042308500004\n"
          ]
        }
      ],
      "source": [
        "import timeit\n",
        "\n",
        "def mape_v1(reviews):\n",
        "    result = 0\n",
        "    count = 0\n",
        "    for recipe_id, recipe_group in reviews.groupby('recipe_id'):\n",
        "        mean_rating = recipe_group['rating'].mean()\n",
        "        for _, row in recipe_group.iterrows():\n",
        "            if row['rating'] != 0:\n",
        "                result += abs(row['rating'] - mean_rating) / mean_rating\n",
        "                count += 1\n",
        "    return result / count if count > 0 else 0\n",
        "\n",
        "print(timeit.timeit(lambda: mape_v1(reviews), number=10, globals=globals())) # Для первой реализации"
      ]
    },
    {
      "cell_type": "code",
      "source": [
        "import pandas as pd\n",
        "from numba import jit\n",
        "\n",
        "@jit(nopython=True)\n",
        "def mape_numba(actual_rating, rating):\n",
        "    mape_sum = 0\n",
        "    for i in range(len(actual_rating)):\n",
        "        mape_sum += abs(actual_rating[i] - rating) / rating\n",
        "    return mape_sum\n",
        "\n",
        "def MAPE(df: pd.DataFrame) -> float:\n",
        "    # Удаляем строки с нулевым рейтингом\n",
        "    df = df[df['rating'] != 0]\n",
        "    \n",
        "    # Группируем данные по рецепту\n",
        "    grouped_data = df.groupby('recipe_id')\n",
        "    \n",
        "    # Вычисляем средний рейтинг для каждого рецепта\n",
        "    mean_ratings = grouped_data['rating'].mean()\n",
        "    \n",
        "    # Вычисляем сумму абсолютных процентных отклонений для каждого рецепта\n",
        "    mape_sum = 0\n",
        "    for recipe_id, rating in mean_ratings.iteritems():\n",
        "        recipe_data = df[df['recipe_id'] == recipe_id]\n",
        "        actual_rating = recipe_data['rating'].values\n",
        "        mape_sum += mape_numba(actual_rating, rating)\n",
        "    \n",
        "    # Вычисляем среднее абсолютное процентное отклонение для всех рецептов\n",
        "    result = mape_sum.sum() / len(mean_ratings)\n",
        "    \n",
        "    return result"
      ],
      "metadata": {
        "id": "KyR7KLvel4zW"
      },
      "execution_count": null,
      "outputs": []
    },
    {
      "cell_type": "code",
      "source": [
        "import numpy as np\n",
        "import timeit\n",
        "\n",
        "def mape_v3(reviews):\n",
        "    reviews = reviews[reviews['rating'] != 0]\n",
        "    mean_ratings = reviews.groupby('recipe_id')['rating'].transform('mean')\n",
        "    return np.mean(np.abs(reviews['rating'] - mean_ratings) / mean_ratings)\n",
        "\n",
        "print(timeit.timeit(lambda: mape_v3(reviews), number=10, globals=globals())) # Для третьей реализации"
      ],
      "metadata": {
        "colab": {
          "base_uri": "https://localhost:8080/"
        },
        "id": "3jbjhGAxl5JV",
        "outputId": "c7ce2310-37b0-4ee7-bd47-00bc8249fdf8"
      },
      "execution_count": null,
      "outputs": [
        {
          "output_type": "stream",
          "name": "stdout",
          "text": [
            "0.35992541599989636\n"
          ]
        }
      ]
    },
    {
      "cell_type": "code",
      "source": [
        "import pandas as pd\n",
        "import numpy as np\n",
        "from numba import jit\n",
        "\n",
        "@jit(nopython=True)\n",
        "def mape_numba(actual_rating, rating):\n",
        "    return np.abs(actual_rating - rating) / rating\n",
        "\n",
        "def MAPE(df: pd.DataFrame) -> float:\n",
        "    # Удаляем строки с нулевым рейтингом\n",
        "    df = df[df['rating'] != 0]\n",
        "    \n",
        "    # Группируем данные по рецепту\n",
        "    grouped_data = df.groupby('recipe_id')\n",
        "    \n",
        "    # Вычисляем средний рейтинг для каждого рецепта\n",
        "    mean_ratings = grouped_data['rating'].mean()\n",
        "    \n",
        "    # Вычисляем сумму абсолютных процентных отклонений для каждого рецепта\n",
        "    mape_sum = 0\n",
        "    for recipe_id, rating in mean_ratings.iteritems():\n",
        "        recipe_data = df[df['recipe_id'] == recipe_id]\n",
        "        actual_rating = recipe_data['rating'].values\n",
        "        mape_sum += mape_numba(actual_rating, rating)\n",
        "    \n",
        "    # Вычисляем среднее абсолютное процентное отклонение для всех рецептов\n",
        "    result = mape_sum.sum() / len(mean_ratings)\n",
        "    \n",
        "    return result"
      ],
      "metadata": {
        "id": "ZCze4KEzl5Qs"
      },
      "execution_count": null,
      "outputs": []
    },
    {
      "cell_type": "markdown",
      "metadata": {
        "id": "L0Cq3cDwLAqK"
      },
      "source": [
        "#### [версия 2]\n",
        "* Уточнены формулировки задач 1, 3, 4"
      ]
    }
  ],
  "metadata": {
    "kernelspec": {
      "display_name": "Python 3",
      "language": "python",
      "name": "python3"
    },
    "language_info": {
      "codemirror_mode": {
        "name": "ipython",
        "version": 3
      },
      "file_extension": ".py",
      "mimetype": "text/x-python",
      "name": "python",
      "nbconvert_exporter": "python",
      "pygments_lexer": "ipython3",
      "version": "3.7.4"
    },
    "colab": {
      "provenance": []
    }
  },
  "nbformat": 4,
  "nbformat_minor": 0
}